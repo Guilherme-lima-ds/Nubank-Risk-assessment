{
 "cells": [
  {
   "cell_type": "markdown",
   "id": "03062ced",
   "metadata": {
    "heading_collapsed": true
   },
   "source": [
    "# 0.0.Entendendo o Problema"
   ]
  },
  {
   "cell_type": "markdown",
   "id": "d6ed01b4",
   "metadata": {
    "hidden": true
   },
   "source": [
    "- 1.Objetivo do Projeto:\n",
    "    - 1.1.Classificar se o cliente vai ser inadimplente ou não.\n",
    "    \n",
    "    \n",
    "- 2.Por que o projeto está sendo requistado?\n",
    "    - 2.1.Acredito que seja pelo motivo de que a empresa está desenvolvendo um sistema de crédito automatico que de um limite adequado para a situação que o cliente está, pois caso a empresa de um emprestimo muito alto para clientes que vão ser possivelmente inadimplentes ela vai está pedenndo dinheiro, pois terá muito mais prejuizo do lucro com esse cliente, em contra partida também temos os clientes que não vão ser inadimplentes e esses sim deve receber um crédito alto para que se fidelizem com o banco e gastem mais, acredito que seja isso.\n",
    "    \n",
    "    \n",
    "- 3.Qual métrica do negócio o projeto vai afetar?\n",
    "\n",
    "    - 3.1.Em outras palavras onde o projeto vai ajudar a empresa a ganhar mais dinheiro? bem, acredito que os bancos ganhem dinheiro através dos juros pois quando emprestam uma quantidade x para o cliente tendem a receber uma quantidade y maior do que deram, ou seja, o projeto vai afetar na métrica de aumento do lucro da empresa e a queda do prejuizo, pois no fim uma das grandes formas dos bancos ganharem dinherio e através desse metódo.\n",
    "        - Receita = juros que vem dos créditos\n",
    "        - + Mais clientes(não inadimplente) + juros = Receita.\n",
    "        \n",
    "    - 3.2.No fim vamos buscar melhorar a métrica de juros, pois a empresa sabendo qual e o cliente com menos chance de ser inadimplente vai poder investir mais nele, e esse investimento ira trazer mais juros pois o cliente vai gasta mais, e isso vai fazer o faturamento da empresa aumentar.\n",
    " \n",
    " \n",
    "- 4.Proposta de Solução\n",
    "    - 4.1.Para resolver esse problema eu vou criar um modelo de Machine Learning que consiga indentificar quais são os clientes com maiores chances de serem inadimplentes, o modelo vai pedir as informações sobre o cliente e no fim retorna a classificação dele, para fazer isso será necessario passar por diversos ciclos para indentificação de problemas, pois cada problema dependendo da proporção vai gerar um novo ciclo, por exemplo certamente vamos está lidando com dados desbalaceandos, estão vamos precisa de um ciclo de balanceamento de dados.\n",
    "    \n",
    "- 5.O que será entrgue no fim?\n",
    "    - 5.1.No fim dos ciclos do projeto eu espero ter um modelo que Tenha uma precisão de indentificar clientes inadimplente maior de 75%\n",
    "    - 5.2.Um WebApp que vai funciona da seguiente forma:\n",
    "        - input: Dados do clientes, as features que o modelo usou para indentificar se vai inadimplente ou não.\n",
    "        - output: Uma foto que sendo verde significa que o cliente não vai ser inadimplente e caso ele for inadimplente retorna uma foto vermelha.\n",
    "        \n",
    "        \n",
    "obs: Eu sei que existem outras formas dos bancos ganherem dinheiro, mas vou simplificar aqui falando apenas do juros, já que e a métrica que vamos buscar melhorar."
   ]
  },
  {
   "cell_type": "markdown",
   "id": "342051ca",
   "metadata": {},
   "source": [
    "# 1.0.Imports"
   ]
  },
  {
   "cell_type": "code",
   "execution_count": 1,
   "id": "35b893c8",
   "metadata": {
    "ExecuteTime": {
     "end_time": "2022-06-28T13:03:29.849723Z",
     "start_time": "2022-06-28T13:03:27.298724Z"
    }
   },
   "outputs": [],
   "source": [
    "#Libraries Paddron\n",
    "import pandas as pd\n",
    "import numpy as np\n",
    "from matplotlib import pyplot as plt\n",
    "import seaborn as sns\n",
    "from datetime import datetime\n",
    "import random\n",
    "#--------------------\n",
    "#Machine Learning Libraries\n",
    "from sklearn.model_selection import train_test_split, StratifiedKFold\n",
    "from sklearn.ensemble import RandomForestClassifier\n",
    "from sklearn.linear_model import LogisticRegression\n",
    "from sklearn.naive_bayes import GaussianNB\n",
    "from sklearn.ensemble import RandomForestClassifier\n",
    "#--------------------\n",
    "#Metrics\n",
    "from sklearn.metrics import classification_report\n",
    "from sklearn.metrics import accuracy_score, balanced_accuracy_score, cohen_kappa_score\n",
    "from scikitplot import metrics as mt\n",
    "#--------------------\n",
    "#Regex\n",
    "import re\n",
    "#--------------------\n",
    "\n",
    "\n",
    "#Filter Warnings\n",
    "import warnings\n",
    "warnings.filterwarnings(\"ignore\")\n",
    "#-------------------\n",
    "\n",
    "#Show all columns\n",
    "pd.set_option('display.max_columns', None)"
   ]
  },
  {
   "cell_type": "markdown",
   "id": "30411de7",
   "metadata": {},
   "source": [
    "## 1.1.Load Data"
   ]
  },
  {
   "cell_type": "code",
   "execution_count": 2,
   "id": "1ee0c53d",
   "metadata": {
    "ExecuteTime": {
     "end_time": "2022-06-28T13:03:30.611723Z",
     "start_time": "2022-06-28T13:03:29.851723Z"
    }
   },
   "outputs": [],
   "source": [
    "df_raw = pd.read_csv('datasets/acquisition_train.csv')"
   ]
  },
  {
   "cell_type": "markdown",
   "id": "a76e6855",
   "metadata": {},
   "source": [
    "## 1.2.Help Functions"
   ]
  },
  {
   "cell_type": "code",
   "execution_count": 3,
   "id": "6d3944dc",
   "metadata": {
    "ExecuteTime": {
     "end_time": "2022-06-28T13:03:30.642724Z",
     "start_time": "2022-06-28T13:03:30.616725Z"
    }
   },
   "outputs": [],
   "source": [
    "def cross_validation(model,num_folds,x_train,y_train,verbose=False):\n",
    "    r2_list  = []\n",
    "    rmse_list   = []\n",
    "    mae_list    = []\n",
    "    mape_list   = []\n",
    "    \n",
    "    #generate k-fold\n",
    "    Kfold = StratifiedKFold(n_splits=num_folds,shuffle=True,random_state=32)\n",
    "    \n",
    "    i=1\n",
    "    for train_ix, val_ix in Kfold.split(X_train,y_train):\n",
    "        if verbose:\n",
    "            print('Fold Number: {}/{}'.format(i,num_folds))\n",
    "        \n",
    "        #get fold\n",
    "        x_train_fold = X_train.iloc[train_ix]\n",
    "        y_train_fold = y_train.iloc[train_ix]\n",
    "        \n",
    "        x_val_fold = X_train.iloc[val_ix]\n",
    "        y_val_fold = y_train.iloc[val_ix]\n",
    "        \n",
    "        \n",
    "        #Model train\n",
    "        model.fit(x_train_fold,y_train_fold)\n",
    "\n",
    "        #prediction\n",
    "        pred_nn = model.predict(x_val_fold)\n",
    "        \n",
    "        #Metrics\n",
    "        acc = accuracy_score(y_val_fold,pred_nn)\n",
    "        print('Acurracy: {:.2%}'.format(acc))\n",
    "        \n",
    "        balacend_acc = balanced_accuracy_score(y_val_fold,pred_nn)\n",
    "        print('Balacend Acurracy: {:.2%}'.format(balacend_acc))\n",
    "\n",
    "        #Kappa Metric\n",
    "        kappa_acc = cohen_kappa_score(y_val_fold,pred_nn)\n",
    "        print('Kappa Score: {:.2%}'.format(kappa_acc))\n",
    "\n",
    "        #classification_report\n",
    "        print(classification_report(y_val_fold,pred_nn))\n",
    "\n",
    "        #plot confusion matrix\n",
    "        mt.plot_confusion_matrix(y_val_fold, pred_nn, normalize=True, figsize=(6,6));\n",
    "        \n",
    "        return None\n",
    "\n",
    "\n",
    "def data_dimensions(df):\n",
    "    print('Number of Rows: {}'.format(df.shape[0]))\n",
    "    print('Number of Columns: {}'.format(df.shape[1]))\n",
    "    return None"
   ]
  },
  {
   "cell_type": "markdown",
   "id": "24e76b8d",
   "metadata": {},
   "source": [
    "# 2.0.Data Description"
   ]
  },
  {
   "cell_type": "code",
   "execution_count": 4,
   "id": "535df37e",
   "metadata": {
    "ExecuteTime": {
     "end_time": "2022-06-28T13:03:30.801402Z",
     "start_time": "2022-06-28T13:03:30.645723Z"
    }
   },
   "outputs": [
    {
     "data": {
      "text/html": [
       "<div>\n",
       "<style scoped>\n",
       "    .dataframe tbody tr th:only-of-type {\n",
       "        vertical-align: middle;\n",
       "    }\n",
       "\n",
       "    .dataframe tbody tr th {\n",
       "        vertical-align: top;\n",
       "    }\n",
       "\n",
       "    .dataframe thead th {\n",
       "        text-align: right;\n",
       "    }\n",
       "</style>\n",
       "<table border=\"1\" class=\"dataframe\">\n",
       "  <thead>\n",
       "    <tr style=\"text-align: right;\">\n",
       "      <th></th>\n",
       "      <th>ids</th>\n",
       "      <th>target_default</th>\n",
       "      <th>score_1</th>\n",
       "      <th>score_2</th>\n",
       "      <th>score_3</th>\n",
       "      <th>score_4</th>\n",
       "      <th>score_5</th>\n",
       "      <th>score_6</th>\n",
       "      <th>risk_rate</th>\n",
       "      <th>last_amount_borrowed</th>\n",
       "      <th>last_borrowed_in_months</th>\n",
       "      <th>credit_limit</th>\n",
       "      <th>reason</th>\n",
       "      <th>income</th>\n",
       "      <th>facebook_profile</th>\n",
       "      <th>state</th>\n",
       "      <th>zip</th>\n",
       "      <th>channel</th>\n",
       "      <th>job_name</th>\n",
       "      <th>real_state</th>\n",
       "      <th>ok_since</th>\n",
       "      <th>n_bankruptcies</th>\n",
       "      <th>n_defaulted_loans</th>\n",
       "      <th>n_accounts</th>\n",
       "      <th>n_issues</th>\n",
       "      <th>application_time_applied</th>\n",
       "      <th>application_time_in_funnel</th>\n",
       "      <th>email</th>\n",
       "      <th>external_data_provider_credit_checks_last_2_year</th>\n",
       "      <th>external_data_provider_credit_checks_last_month</th>\n",
       "      <th>external_data_provider_credit_checks_last_year</th>\n",
       "      <th>external_data_provider_email_seen_before</th>\n",
       "      <th>external_data_provider_first_name</th>\n",
       "      <th>external_data_provider_fraud_score</th>\n",
       "      <th>lat_lon</th>\n",
       "      <th>marketing_channel</th>\n",
       "      <th>profile_phone_number</th>\n",
       "      <th>reported_income</th>\n",
       "      <th>shipping_state</th>\n",
       "      <th>shipping_zip_code</th>\n",
       "      <th>profile_tags</th>\n",
       "      <th>user_agent</th>\n",
       "      <th>target_fraud</th>\n",
       "    </tr>\n",
       "  </thead>\n",
       "  <tbody>\n",
       "    <tr>\n",
       "      <th>0</th>\n",
       "      <td>343b7e7b-2cf8-e508-b8fd-0a0285af30aa</td>\n",
       "      <td>False</td>\n",
       "      <td>1Rk8w4Ucd5yR3KcqZzLdow==</td>\n",
       "      <td>IOVu8au3ISbo6+zmfnYwMg==</td>\n",
       "      <td>350.0</td>\n",
       "      <td>101.800832</td>\n",
       "      <td>0.259555</td>\n",
       "      <td>108.427273</td>\n",
       "      <td>0.40</td>\n",
       "      <td>25033.92</td>\n",
       "      <td>36.0</td>\n",
       "      <td>0.0</td>\n",
       "      <td>mLVIVxoGY7TUDJ1FyFoSIZi1SFcaBmO01AydRchaEiGYtU...</td>\n",
       "      <td>65014.12</td>\n",
       "      <td>True</td>\n",
       "      <td>sjJbkqJS7cXalHLBFA+EOQ==</td>\n",
       "      <td>Ernn+uVXCMq/6ARrBCcd+A==</td>\n",
       "      <td>NCqL3QBx0pscDnx3ixKwXg==</td>\n",
       "      <td>mLVIVxoGY7TUDJ1FyFoSIZi1SFcaBmO01AydRchaEiGYtU...</td>\n",
       "      <td>N5/CE7lSkAfB04hVFFwllw==</td>\n",
       "      <td>NaN</td>\n",
       "      <td>0.0</td>\n",
       "      <td>0.0</td>\n",
       "      <td>18.0</td>\n",
       "      <td>18.0</td>\n",
       "      <td>07:52:34</td>\n",
       "      <td>444</td>\n",
       "      <td>outlook.com</td>\n",
       "      <td>NaN</td>\n",
       "      <td>2</td>\n",
       "      <td>0.0</td>\n",
       "      <td>51.0</td>\n",
       "      <td>leidelaura</td>\n",
       "      <td>645</td>\n",
       "      <td>(-29.151545708122246, -51.1386461804385)</td>\n",
       "      <td>Invite-email</td>\n",
       "      <td>514-9840782</td>\n",
       "      <td>57849.0</td>\n",
       "      <td>BR-MT</td>\n",
       "      <td>17528</td>\n",
       "      <td>{'tags': ['n19', 'n8']}</td>\n",
       "      <td>Mozilla/5.0 (Linux; Android 6.0.1; SGP771 Buil...</td>\n",
       "      <td>NaN</td>\n",
       "    </tr>\n",
       "    <tr>\n",
       "      <th>1</th>\n",
       "      <td>bc2c7502-bbad-0f8c-39c3-94e881967124</td>\n",
       "      <td>False</td>\n",
       "      <td>DGCQep2AE5QRkNCshIAlFQ==</td>\n",
       "      <td>SaamrHMo23l/3TwXOWgVzw==</td>\n",
       "      <td>370.0</td>\n",
       "      <td>97.062615</td>\n",
       "      <td>0.942655</td>\n",
       "      <td>92.002546</td>\n",
       "      <td>0.24</td>\n",
       "      <td>NaN</td>\n",
       "      <td>NaN</td>\n",
       "      <td>39726.0</td>\n",
       "      <td>mLVIVxoGY7TUDJ1FyFoSIZi1SFcaBmO01AydRchaEiGYtU...</td>\n",
       "      <td>100018.91</td>\n",
       "      <td>False</td>\n",
       "      <td>xsd3ZdsI3356I3xMxZeiqQ==</td>\n",
       "      <td>rlWIXTBO+VOa34+SpGyhlQ==</td>\n",
       "      <td>NCqL3QBx0pscDnx3ixKwXg==</td>\n",
       "      <td>mLVIVxoGY7TUDJ1FyFoSIZi1SFcaBmO01AydRchaEiGYtU...</td>\n",
       "      <td>N5/CE7lSkAfB04hVFFwllw==</td>\n",
       "      <td>50.0</td>\n",
       "      <td>0.0</td>\n",
       "      <td>0.0</td>\n",
       "      <td>14.0</td>\n",
       "      <td>14.0</td>\n",
       "      <td>02:34:29</td>\n",
       "      <td>346</td>\n",
       "      <td>gmail.com</td>\n",
       "      <td>0.0</td>\n",
       "      <td>1</td>\n",
       "      <td>0.0</td>\n",
       "      <td>17.0</td>\n",
       "      <td>diocezio</td>\n",
       "      <td>243</td>\n",
       "      <td>(-19.687710705798963, -47.94151536525154)</td>\n",
       "      <td>Radio-commercial</td>\n",
       "      <td>251-3659293</td>\n",
       "      <td>4902.0</td>\n",
       "      <td>BR-RS</td>\n",
       "      <td>40933</td>\n",
       "      <td>{'tags': ['n6', 'n7', 'nim']}</td>\n",
       "      <td>Mozilla/5.0 (Linux; Android 5.0.2; SAMSUNG SM-...</td>\n",
       "      <td>NaN</td>\n",
       "    </tr>\n",
       "    <tr>\n",
       "      <th>2</th>\n",
       "      <td>669630dd-2e6a-0396-84bf-455e5009c922</td>\n",
       "      <td>True</td>\n",
       "      <td>DGCQep2AE5QRkNCshIAlFQ==</td>\n",
       "      <td>Fv28Bz0YRTVAT5kl1bAV6g==</td>\n",
       "      <td>360.0</td>\n",
       "      <td>100.027073</td>\n",
       "      <td>0.351918</td>\n",
       "      <td>112.892453</td>\n",
       "      <td>0.29</td>\n",
       "      <td>7207.92</td>\n",
       "      <td>36.0</td>\n",
       "      <td>NaN</td>\n",
       "      <td>mLVIVxoGY7TUDJ1FyFoSIZi1SFcaBmO01AydRchaEiGYtU...</td>\n",
       "      <td>65023.65</td>\n",
       "      <td>NaN</td>\n",
       "      <td>Ygq6MsM98oC8yceExr69Ig==</td>\n",
       "      <td>PjTIDfJsK0DKL9fO7vuW2g==</td>\n",
       "      <td>NCqL3QBx0pscDnx3ixKwXg==</td>\n",
       "      <td>mLVIVxoGY7TUDJ1FyFoSIZi1SFcaBmO01AydRchaEiGYtU...</td>\n",
       "      <td>n+xK9CfX0bCn77lClTWviw==</td>\n",
       "      <td>NaN</td>\n",
       "      <td>0.0</td>\n",
       "      <td>0.0</td>\n",
       "      <td>10.0</td>\n",
       "      <td>NaN</td>\n",
       "      <td>00:60:02</td>\n",
       "      <td>6</td>\n",
       "      <td>gmail.com</td>\n",
       "      <td>NaN</td>\n",
       "      <td>2</td>\n",
       "      <td>NaN</td>\n",
       "      <td>9.0</td>\n",
       "      <td>veralucia</td>\n",
       "      <td>65</td>\n",
       "      <td>(-28.748023890412284, -51.867279334353995)</td>\n",
       "      <td>Waiting-list</td>\n",
       "      <td>230-6097993</td>\n",
       "      <td>163679.0</td>\n",
       "      <td>BR-RR</td>\n",
       "      <td>50985</td>\n",
       "      <td>{'tags': ['n0', 'n17', 'nim', 'da']}</td>\n",
       "      <td>Mozilla/5.0 (Linux; Android 6.0.1; SGP771 Buil...</td>\n",
       "      <td>NaN</td>\n",
       "    </tr>\n",
       "    <tr>\n",
       "      <th>3</th>\n",
       "      <td>d235609e-b6cb-0ccc-a329-d4f12e7ebdc1</td>\n",
       "      <td>False</td>\n",
       "      <td>1Rk8w4Ucd5yR3KcqZzLdow==</td>\n",
       "      <td>dCm9hFKfdRm7ej3jW+gyxw==</td>\n",
       "      <td>510.0</td>\n",
       "      <td>101.599485</td>\n",
       "      <td>0.987673</td>\n",
       "      <td>94.902491</td>\n",
       "      <td>0.32</td>\n",
       "      <td>NaN</td>\n",
       "      <td>NaN</td>\n",
       "      <td>54591.0</td>\n",
       "      <td>mLVIVxoGY7TUDJ1FyFoSIZi1SFcaBmO01AydRchaEiGYtU...</td>\n",
       "      <td>68830.01</td>\n",
       "      <td>False</td>\n",
       "      <td>KET/Pmr6rHp1RJ/P9ymztw==</td>\n",
       "      <td>Cc/kWDLQH3dpHv5HU+pLVA==</td>\n",
       "      <td>NCqL3QBx0pscDnx3ixKwXg==</td>\n",
       "      <td>mLVIVxoGY7TUDJ1FyFoSIZi1SFcaBmO01AydRchaEiE56f...</td>\n",
       "      <td>n+xK9CfX0bCn77lClTWviw==</td>\n",
       "      <td>NaN</td>\n",
       "      <td>1.0</td>\n",
       "      <td>0.0</td>\n",
       "      <td>19.0</td>\n",
       "      <td>19.0</td>\n",
       "      <td>11:20:49</td>\n",
       "      <td>406</td>\n",
       "      <td>spgov.com</td>\n",
       "      <td>NaN</td>\n",
       "      <td>3</td>\n",
       "      <td>NaN</td>\n",
       "      <td>38.0</td>\n",
       "      <td>venice</td>\n",
       "      <td>815</td>\n",
       "      <td>(-17.520650158450454, -39.75801139933186)</td>\n",
       "      <td>Waiting-list</td>\n",
       "      <td>261-3543751</td>\n",
       "      <td>1086.0</td>\n",
       "      <td>BR-RN</td>\n",
       "      <td>37825</td>\n",
       "      <td>{'tags': ['n4']}</td>\n",
       "      <td>Mozilla/5.0 (Linux; Android 6.0; HTC One X10 B...</td>\n",
       "      <td>NaN</td>\n",
       "    </tr>\n",
       "    <tr>\n",
       "      <th>4</th>\n",
       "      <td>9e0eb880-e8f4-3faa-67d8-f5cdd2b3932b</td>\n",
       "      <td>False</td>\n",
       "      <td>8k8UDR4Yx0qasAjkGrUZLw==</td>\n",
       "      <td>+CxEO4w7jv3QPI/BQbyqAA==</td>\n",
       "      <td>500.0</td>\n",
       "      <td>98.474289</td>\n",
       "      <td>0.532539</td>\n",
       "      <td>118.126207</td>\n",
       "      <td>0.18</td>\n",
       "      <td>NaN</td>\n",
       "      <td>NaN</td>\n",
       "      <td>NaN</td>\n",
       "      <td>mLVIVxoGY7TUDJ1FyFoSIZi1SFcaBmO01AydRchaEiGYtU...</td>\n",
       "      <td>60011.29</td>\n",
       "      <td>True</td>\n",
       "      <td>xsd3ZdsI3356I3xMxZeiqQ==</td>\n",
       "      <td>i036nmJ7rfxo+3EvCD7Jnw==</td>\n",
       "      <td>NCqL3QBx0pscDnx3ixKwXg==</td>\n",
       "      <td>mLVIVxoGY7TUDJ1FyFoSIZi1SFcaBmO01AydRchaEiGYtU...</td>\n",
       "      <td>n+xK9CfX0bCn77lClTWviw==</td>\n",
       "      <td>NaN</td>\n",
       "      <td>0.0</td>\n",
       "      <td>0.0</td>\n",
       "      <td>11.0</td>\n",
       "      <td>NaN</td>\n",
       "      <td>13:39:03</td>\n",
       "      <td>240</td>\n",
       "      <td>gmail.com</td>\n",
       "      <td>0.0</td>\n",
       "      <td>2</td>\n",
       "      <td>1.0</td>\n",
       "      <td>46.0</td>\n",
       "      <td>darzisa</td>\n",
       "      <td>320</td>\n",
       "      <td>(-16.574259446978008, -39.90990074785962)</td>\n",
       "      <td>Invite-email</td>\n",
       "      <td>102-3660162</td>\n",
       "      <td>198618.0</td>\n",
       "      <td>BR-MT</td>\n",
       "      <td>52827</td>\n",
       "      <td>{'tags': ['pro+aty', 'n19', 'da', 'b19']}</td>\n",
       "      <td>Mozilla/5.0 (Linux; Android 7.0; Pixel C Build...</td>\n",
       "      <td>NaN</td>\n",
       "    </tr>\n",
       "  </tbody>\n",
       "</table>\n",
       "</div>"
      ],
      "text/plain": [
       "                                    ids target_default  \\\n",
       "0  343b7e7b-2cf8-e508-b8fd-0a0285af30aa          False   \n",
       "1  bc2c7502-bbad-0f8c-39c3-94e881967124          False   \n",
       "2  669630dd-2e6a-0396-84bf-455e5009c922           True   \n",
       "3  d235609e-b6cb-0ccc-a329-d4f12e7ebdc1          False   \n",
       "4  9e0eb880-e8f4-3faa-67d8-f5cdd2b3932b          False   \n",
       "\n",
       "                    score_1                   score_2  score_3     score_4  \\\n",
       "0  1Rk8w4Ucd5yR3KcqZzLdow==  IOVu8au3ISbo6+zmfnYwMg==    350.0  101.800832   \n",
       "1  DGCQep2AE5QRkNCshIAlFQ==  SaamrHMo23l/3TwXOWgVzw==    370.0   97.062615   \n",
       "2  DGCQep2AE5QRkNCshIAlFQ==  Fv28Bz0YRTVAT5kl1bAV6g==    360.0  100.027073   \n",
       "3  1Rk8w4Ucd5yR3KcqZzLdow==  dCm9hFKfdRm7ej3jW+gyxw==    510.0  101.599485   \n",
       "4  8k8UDR4Yx0qasAjkGrUZLw==  +CxEO4w7jv3QPI/BQbyqAA==    500.0   98.474289   \n",
       "\n",
       "    score_5     score_6  risk_rate  last_amount_borrowed  \\\n",
       "0  0.259555  108.427273       0.40              25033.92   \n",
       "1  0.942655   92.002546       0.24                   NaN   \n",
       "2  0.351918  112.892453       0.29               7207.92   \n",
       "3  0.987673   94.902491       0.32                   NaN   \n",
       "4  0.532539  118.126207       0.18                   NaN   \n",
       "\n",
       "   last_borrowed_in_months  credit_limit  \\\n",
       "0                     36.0           0.0   \n",
       "1                      NaN       39726.0   \n",
       "2                     36.0           NaN   \n",
       "3                      NaN       54591.0   \n",
       "4                      NaN           NaN   \n",
       "\n",
       "                                              reason     income  \\\n",
       "0  mLVIVxoGY7TUDJ1FyFoSIZi1SFcaBmO01AydRchaEiGYtU...   65014.12   \n",
       "1  mLVIVxoGY7TUDJ1FyFoSIZi1SFcaBmO01AydRchaEiGYtU...  100018.91   \n",
       "2  mLVIVxoGY7TUDJ1FyFoSIZi1SFcaBmO01AydRchaEiGYtU...   65023.65   \n",
       "3  mLVIVxoGY7TUDJ1FyFoSIZi1SFcaBmO01AydRchaEiGYtU...   68830.01   \n",
       "4  mLVIVxoGY7TUDJ1FyFoSIZi1SFcaBmO01AydRchaEiGYtU...   60011.29   \n",
       "\n",
       "  facebook_profile                     state                       zip  \\\n",
       "0             True  sjJbkqJS7cXalHLBFA+EOQ==  Ernn+uVXCMq/6ARrBCcd+A==   \n",
       "1            False  xsd3ZdsI3356I3xMxZeiqQ==  rlWIXTBO+VOa34+SpGyhlQ==   \n",
       "2              NaN  Ygq6MsM98oC8yceExr69Ig==  PjTIDfJsK0DKL9fO7vuW2g==   \n",
       "3            False  KET/Pmr6rHp1RJ/P9ymztw==  Cc/kWDLQH3dpHv5HU+pLVA==   \n",
       "4             True  xsd3ZdsI3356I3xMxZeiqQ==  i036nmJ7rfxo+3EvCD7Jnw==   \n",
       "\n",
       "                    channel  \\\n",
       "0  NCqL3QBx0pscDnx3ixKwXg==   \n",
       "1  NCqL3QBx0pscDnx3ixKwXg==   \n",
       "2  NCqL3QBx0pscDnx3ixKwXg==   \n",
       "3  NCqL3QBx0pscDnx3ixKwXg==   \n",
       "4  NCqL3QBx0pscDnx3ixKwXg==   \n",
       "\n",
       "                                            job_name  \\\n",
       "0  mLVIVxoGY7TUDJ1FyFoSIZi1SFcaBmO01AydRchaEiGYtU...   \n",
       "1  mLVIVxoGY7TUDJ1FyFoSIZi1SFcaBmO01AydRchaEiGYtU...   \n",
       "2  mLVIVxoGY7TUDJ1FyFoSIZi1SFcaBmO01AydRchaEiGYtU...   \n",
       "3  mLVIVxoGY7TUDJ1FyFoSIZi1SFcaBmO01AydRchaEiE56f...   \n",
       "4  mLVIVxoGY7TUDJ1FyFoSIZi1SFcaBmO01AydRchaEiGYtU...   \n",
       "\n",
       "                 real_state  ok_since  n_bankruptcies  n_defaulted_loans  \\\n",
       "0  N5/CE7lSkAfB04hVFFwllw==       NaN             0.0                0.0   \n",
       "1  N5/CE7lSkAfB04hVFFwllw==      50.0             0.0                0.0   \n",
       "2  n+xK9CfX0bCn77lClTWviw==       NaN             0.0                0.0   \n",
       "3  n+xK9CfX0bCn77lClTWviw==       NaN             1.0                0.0   \n",
       "4  n+xK9CfX0bCn77lClTWviw==       NaN             0.0                0.0   \n",
       "\n",
       "   n_accounts  n_issues application_time_applied  application_time_in_funnel  \\\n",
       "0        18.0      18.0                 07:52:34                         444   \n",
       "1        14.0      14.0                 02:34:29                         346   \n",
       "2        10.0       NaN                 00:60:02                           6   \n",
       "3        19.0      19.0                 11:20:49                         406   \n",
       "4        11.0       NaN                 13:39:03                         240   \n",
       "\n",
       "         email  external_data_provider_credit_checks_last_2_year  \\\n",
       "0  outlook.com                                               NaN   \n",
       "1    gmail.com                                               0.0   \n",
       "2    gmail.com                                               NaN   \n",
       "3    spgov.com                                               NaN   \n",
       "4    gmail.com                                               0.0   \n",
       "\n",
       "   external_data_provider_credit_checks_last_month  \\\n",
       "0                                                2   \n",
       "1                                                1   \n",
       "2                                                2   \n",
       "3                                                3   \n",
       "4                                                2   \n",
       "\n",
       "   external_data_provider_credit_checks_last_year  \\\n",
       "0                                             0.0   \n",
       "1                                             0.0   \n",
       "2                                             NaN   \n",
       "3                                             NaN   \n",
       "4                                             1.0   \n",
       "\n",
       "   external_data_provider_email_seen_before external_data_provider_first_name  \\\n",
       "0                                      51.0                        leidelaura   \n",
       "1                                      17.0                          diocezio   \n",
       "2                                       9.0                         veralucia   \n",
       "3                                      38.0                            venice   \n",
       "4                                      46.0                           darzisa   \n",
       "\n",
       "   external_data_provider_fraud_score  \\\n",
       "0                                 645   \n",
       "1                                 243   \n",
       "2                                  65   \n",
       "3                                 815   \n",
       "4                                 320   \n",
       "\n",
       "                                      lat_lon marketing_channel  \\\n",
       "0    (-29.151545708122246, -51.1386461804385)      Invite-email   \n",
       "1   (-19.687710705798963, -47.94151536525154)  Radio-commercial   \n",
       "2  (-28.748023890412284, -51.867279334353995)      Waiting-list   \n",
       "3   (-17.520650158450454, -39.75801139933186)      Waiting-list   \n",
       "4   (-16.574259446978008, -39.90990074785962)      Invite-email   \n",
       "\n",
       "  profile_phone_number  reported_income shipping_state  shipping_zip_code  \\\n",
       "0          514-9840782          57849.0          BR-MT              17528   \n",
       "1          251-3659293           4902.0          BR-RS              40933   \n",
       "2          230-6097993         163679.0          BR-RR              50985   \n",
       "3          261-3543751           1086.0          BR-RN              37825   \n",
       "4          102-3660162         198618.0          BR-MT              52827   \n",
       "\n",
       "                                profile_tags  \\\n",
       "0                    {'tags': ['n19', 'n8']}   \n",
       "1              {'tags': ['n6', 'n7', 'nim']}   \n",
       "2       {'tags': ['n0', 'n17', 'nim', 'da']}   \n",
       "3                           {'tags': ['n4']}   \n",
       "4  {'tags': ['pro+aty', 'n19', 'da', 'b19']}   \n",
       "\n",
       "                                          user_agent target_fraud  \n",
       "0  Mozilla/5.0 (Linux; Android 6.0.1; SGP771 Buil...          NaN  \n",
       "1  Mozilla/5.0 (Linux; Android 5.0.2; SAMSUNG SM-...          NaN  \n",
       "2  Mozilla/5.0 (Linux; Android 6.0.1; SGP771 Buil...          NaN  \n",
       "3  Mozilla/5.0 (Linux; Android 6.0; HTC One X10 B...          NaN  \n",
       "4  Mozilla/5.0 (Linux; Android 7.0; Pixel C Build...          NaN  "
      ]
     },
     "execution_count": 4,
     "metadata": {},
     "output_type": "execute_result"
    }
   ],
   "source": [
    "df1 = df_raw.copy()\n",
    "df1.head()"
   ]
  },
  {
   "cell_type": "markdown",
   "id": "e6035dff",
   "metadata": {},
   "source": [
    "## 2.1.Data Dimensions"
   ]
  },
  {
   "cell_type": "code",
   "execution_count": 5,
   "id": "cc54f7bd",
   "metadata": {
    "ExecuteTime": {
     "end_time": "2022-06-28T13:03:30.912406Z",
     "start_time": "2022-06-28T13:03:30.804403Z"
    }
   },
   "outputs": [
    {
     "name": "stdout",
     "output_type": "stream",
     "text": [
      "Number of Rows: 45000\n",
      "Number of Columns: 43\n"
     ]
    }
   ],
   "source": [
    "data_dimensions(df1)"
   ]
  },
  {
   "cell_type": "markdown",
   "id": "2e034c5b",
   "metadata": {},
   "source": [
    "## 2.2.Data types"
   ]
  },
  {
   "cell_type": "code",
   "execution_count": 6,
   "id": "07f724e1",
   "metadata": {
    "ExecuteTime": {
     "end_time": "2022-06-28T13:03:31.099690Z",
     "start_time": "2022-06-28T13:03:30.914403Z"
    }
   },
   "outputs": [
    {
     "data": {
      "text/plain": [
       "ids                                                  object\n",
       "target_default                                       object\n",
       "score_1                                              object\n",
       "score_2                                              object\n",
       "score_3                                             float64\n",
       "score_4                                             float64\n",
       "score_5                                             float64\n",
       "score_6                                             float64\n",
       "risk_rate                                           float64\n",
       "last_amount_borrowed                                float64\n",
       "last_borrowed_in_months                             float64\n",
       "credit_limit                                        float64\n",
       "reason                                               object\n",
       "income                                              float64\n",
       "facebook_profile                                     object\n",
       "state                                                object\n",
       "zip                                                  object\n",
       "channel                                              object\n",
       "job_name                                             object\n",
       "real_state                                           object\n",
       "ok_since                                            float64\n",
       "n_bankruptcies                                      float64\n",
       "n_defaulted_loans                                   float64\n",
       "n_accounts                                          float64\n",
       "n_issues                                            float64\n",
       "application_time_applied                             object\n",
       "application_time_in_funnel                            int64\n",
       "email                                                object\n",
       "external_data_provider_credit_checks_last_2_year    float64\n",
       "external_data_provider_credit_checks_last_month       int64\n",
       "external_data_provider_credit_checks_last_year      float64\n",
       "external_data_provider_email_seen_before            float64\n",
       "external_data_provider_first_name                    object\n",
       "external_data_provider_fraud_score                    int64\n",
       "lat_lon                                              object\n",
       "marketing_channel                                    object\n",
       "profile_phone_number                                 object\n",
       "reported_income                                     float64\n",
       "shipping_state                                       object\n",
       "shipping_zip_code                                     int64\n",
       "profile_tags                                         object\n",
       "user_agent                                           object\n",
       "target_fraud                                         object\n",
       "dtype: object"
      ]
     },
     "execution_count": 6,
     "metadata": {},
     "output_type": "execute_result"
    }
   ],
   "source": [
    "df1.dtypes"
   ]
  },
  {
   "cell_type": "markdown",
   "id": "f9ae32bf",
   "metadata": {},
   "source": [
    "## 2.3.Change types"
   ]
  },
  {
   "cell_type": "code",
   "execution_count": 7,
   "id": "33e6babb",
   "metadata": {
    "ExecuteTime": {
     "end_time": "2022-06-28T13:03:31.255887Z",
     "start_time": "2022-06-28T13:03:31.102684Z"
    }
   },
   "outputs": [],
   "source": [
    "#None"
   ]
  },
  {
   "cell_type": "markdown",
   "id": "c1359af5",
   "metadata": {},
   "source": [
    "## 2.4.Check NA values"
   ]
  },
  {
   "cell_type": "markdown",
   "id": "25109ae9",
   "metadata": {},
   "source": [
    "**Removendo colunas:**\n",
    "Todas as colunas que tiverem 50% ou mais de valores nulos eu vou remover, pelo motivo de eu não querer mudar o fenomeno que estou tentando modelar, pois vou acabar inviezando o modelo e criando algo que não condiz com a realidade."
   ]
  },
  {
   "cell_type": "code",
   "execution_count": 8,
   "id": "fd4388d6",
   "metadata": {
    "ExecuteTime": {
     "end_time": "2022-06-28T13:03:31.922266Z",
     "start_time": "2022-06-28T13:03:31.258889Z"
    }
   },
   "outputs": [
    {
     "data": {
      "text/html": [
       "<div>\n",
       "<style scoped>\n",
       "    .dataframe tbody tr th:only-of-type {\n",
       "        vertical-align: middle;\n",
       "    }\n",
       "\n",
       "    .dataframe tbody tr th {\n",
       "        vertical-align: top;\n",
       "    }\n",
       "\n",
       "    .dataframe thead th {\n",
       "        text-align: right;\n",
       "    }\n",
       "</style>\n",
       "<table border=\"1\" class=\"dataframe\">\n",
       "  <thead>\n",
       "    <tr style=\"text-align: right;\">\n",
       "      <th></th>\n",
       "      <th>Values NA</th>\n",
       "      <th>% NA</th>\n",
       "    </tr>\n",
       "  </thead>\n",
       "  <tbody>\n",
       "    <tr>\n",
       "      <th>target_fraud</th>\n",
       "      <td>43478</td>\n",
       "      <td>97.0</td>\n",
       "    </tr>\n",
       "    <tr>\n",
       "      <th>last_amount_borrowed</th>\n",
       "      <td>29956</td>\n",
       "      <td>67.0</td>\n",
       "    </tr>\n",
       "    <tr>\n",
       "      <th>last_borrowed_in_months</th>\n",
       "      <td>29956</td>\n",
       "      <td>67.0</td>\n",
       "    </tr>\n",
       "    <tr>\n",
       "      <th>ok_since</th>\n",
       "      <td>26545</td>\n",
       "      <td>59.0</td>\n",
       "    </tr>\n",
       "  </tbody>\n",
       "</table>\n",
       "</div>"
      ],
      "text/plain": [
       "                         Values NA  % NA\n",
       "target_fraud                 43478  97.0\n",
       "last_amount_borrowed         29956  67.0\n",
       "last_borrowed_in_months      29956  67.0\n",
       "ok_since                     26545  59.0"
      ]
     },
     "execution_count": 8,
     "metadata": {},
     "output_type": "execute_result"
    }
   ],
   "source": [
    "aux = pd.DataFrame(index=df1.isnull().sum().index, data=df1.isnull().sum().values).rename(columns={0:'Values NA'})\n",
    "aux = aux.sort_values(by='Values NA',ascending=False)\n",
    "aux['% NA'] = 100*round(df1.isnull().sum() / len(df1),2)\n",
    "aux[(aux['Values NA'] > 0) & (aux['% NA'] > 50)] #cols to drop"
   ]
  },
  {
   "cell_type": "code",
   "execution_count": 9,
   "id": "731fa6b0",
   "metadata": {
    "ExecuteTime": {
     "end_time": "2022-06-28T13:03:31.953267Z",
     "start_time": "2022-06-28T13:03:31.931270Z"
    }
   },
   "outputs": [
    {
     "data": {
      "text/html": [
       "<div>\n",
       "<style scoped>\n",
       "    .dataframe tbody tr th:only-of-type {\n",
       "        vertical-align: middle;\n",
       "    }\n",
       "\n",
       "    .dataframe tbody tr th {\n",
       "        vertical-align: top;\n",
       "    }\n",
       "\n",
       "    .dataframe thead th {\n",
       "        text-align: right;\n",
       "    }\n",
       "</style>\n",
       "<table border=\"1\" class=\"dataframe\">\n",
       "  <thead>\n",
       "    <tr style=\"text-align: right;\">\n",
       "      <th></th>\n",
       "      <th>Values NA</th>\n",
       "      <th>% NA</th>\n",
       "    </tr>\n",
       "  </thead>\n",
       "  <tbody>\n",
       "    <tr>\n",
       "      <th>external_data_provider_credit_checks_last_year</th>\n",
       "      <td>15124</td>\n",
       "      <td>34.0</td>\n",
       "    </tr>\n",
       "    <tr>\n",
       "      <th>credit_limit</th>\n",
       "      <td>13800</td>\n",
       "      <td>31.0</td>\n",
       "    </tr>\n",
       "    <tr>\n",
       "      <th>n_issues</th>\n",
       "      <td>11544</td>\n",
       "      <td>26.0</td>\n",
       "    </tr>\n",
       "    <tr>\n",
       "      <th>facebook_profile</th>\n",
       "      <td>4458</td>\n",
       "      <td>10.0</td>\n",
       "    </tr>\n",
       "    <tr>\n",
       "      <th>marketing_channel</th>\n",
       "      <td>3578</td>\n",
       "      <td>8.0</td>\n",
       "    </tr>\n",
       "    <tr>\n",
       "      <th>job_name</th>\n",
       "      <td>3336</td>\n",
       "      <td>7.0</td>\n",
       "    </tr>\n",
       "    <tr>\n",
       "      <th>target_default</th>\n",
       "      <td>3259</td>\n",
       "      <td>7.0</td>\n",
       "    </tr>\n",
       "    <tr>\n",
       "      <th>external_data_provider_email_seen_before</th>\n",
       "      <td>2233</td>\n",
       "      <td>5.0</td>\n",
       "    </tr>\n",
       "    <tr>\n",
       "      <th>lat_lon</th>\n",
       "      <td>1363</td>\n",
       "      <td>3.0</td>\n",
       "    </tr>\n",
       "    <tr>\n",
       "      <th>user_agent</th>\n",
       "      <td>722</td>\n",
       "      <td>2.0</td>\n",
       "    </tr>\n",
       "    <tr>\n",
       "      <th>n_bankruptcies</th>\n",
       "      <td>697</td>\n",
       "      <td>2.0</td>\n",
       "    </tr>\n",
       "    <tr>\n",
       "      <th>n_defaulted_loans</th>\n",
       "      <td>574</td>\n",
       "      <td>1.0</td>\n",
       "    </tr>\n",
       "    <tr>\n",
       "      <th>reason</th>\n",
       "      <td>566</td>\n",
       "      <td>1.0</td>\n",
       "    </tr>\n",
       "    <tr>\n",
       "      <th>zip</th>\n",
       "      <td>562</td>\n",
       "      <td>1.0</td>\n",
       "    </tr>\n",
       "    <tr>\n",
       "      <th>n_accounts</th>\n",
       "      <td>562</td>\n",
       "      <td>1.0</td>\n",
       "    </tr>\n",
       "    <tr>\n",
       "      <th>channel</th>\n",
       "      <td>562</td>\n",
       "      <td>1.0</td>\n",
       "    </tr>\n",
       "    <tr>\n",
       "      <th>score_1</th>\n",
       "      <td>562</td>\n",
       "      <td>1.0</td>\n",
       "    </tr>\n",
       "    <tr>\n",
       "      <th>score_3</th>\n",
       "      <td>562</td>\n",
       "      <td>1.0</td>\n",
       "    </tr>\n",
       "    <tr>\n",
       "      <th>risk_rate</th>\n",
       "      <td>562</td>\n",
       "      <td>1.0</td>\n",
       "    </tr>\n",
       "    <tr>\n",
       "      <th>income</th>\n",
       "      <td>562</td>\n",
       "      <td>1.0</td>\n",
       "    </tr>\n",
       "    <tr>\n",
       "      <th>real_state</th>\n",
       "      <td>562</td>\n",
       "      <td>1.0</td>\n",
       "    </tr>\n",
       "    <tr>\n",
       "      <th>state</th>\n",
       "      <td>562</td>\n",
       "      <td>1.0</td>\n",
       "    </tr>\n",
       "    <tr>\n",
       "      <th>score_2</th>\n",
       "      <td>562</td>\n",
       "      <td>1.0</td>\n",
       "    </tr>\n",
       "  </tbody>\n",
       "</table>\n",
       "</div>"
      ],
      "text/plain": [
       "                                                Values NA  % NA\n",
       "external_data_provider_credit_checks_last_year      15124  34.0\n",
       "credit_limit                                        13800  31.0\n",
       "n_issues                                            11544  26.0\n",
       "facebook_profile                                     4458  10.0\n",
       "marketing_channel                                    3578   8.0\n",
       "job_name                                             3336   7.0\n",
       "target_default                                       3259   7.0\n",
       "external_data_provider_email_seen_before             2233   5.0\n",
       "lat_lon                                              1363   3.0\n",
       "user_agent                                            722   2.0\n",
       "n_bankruptcies                                        697   2.0\n",
       "n_defaulted_loans                                     574   1.0\n",
       "reason                                                566   1.0\n",
       "zip                                                   562   1.0\n",
       "n_accounts                                            562   1.0\n",
       "channel                                               562   1.0\n",
       "score_1                                               562   1.0\n",
       "score_3                                               562   1.0\n",
       "risk_rate                                             562   1.0\n",
       "income                                                562   1.0\n",
       "real_state                                            562   1.0\n",
       "state                                                 562   1.0\n",
       "score_2                                               562   1.0"
      ]
     },
     "execution_count": 9,
     "metadata": {},
     "output_type": "execute_result"
    }
   ],
   "source": [
    "aux[(aux['Values NA'] > 0) & (aux['% NA'] < 50)] # cols to fill"
   ]
  },
  {
   "cell_type": "markdown",
   "id": "5ee0fa3c",
   "metadata": {},
   "source": [
    "## 2.5.FIll or Drop NA values"
   ]
  },
  {
   "cell_type": "markdown",
   "id": "1af6344a",
   "metadata": {},
   "source": [
    "**Preenchendo valores nulos:**\n",
    "\n",
    "- Colunas Numericas:\n",
    "\n",
    "    - Para preecher as variaveis continuas eu analise as médidas de posição central e a distribuição da variavel, para ter certeza que não ia está modificando o fenemeno, então cada variavel que eu substituir o valor pela média e mediana foi pelo fato de está proximo de uma distribuição normal.\n",
    "\n",
    "- Colunas Categoricas:\n",
    "\n",
    "  - Já as variaveis categoricas eu busquei substituir pela moda, claro que tenho o conhecimento de que pequenas mundaçãs assim podem inviezar o modelo e fazer ele aprender algo que não condiz com a realidade, mas vai ser um teste, caso eu veja que o modelo não está perfomando bem, principalmente na cross_validation eu volto aqui e faço outra substituição de dados."
   ]
  },
  {
   "cell_type": "code",
   "execution_count": 10,
   "id": "aaf01389",
   "metadata": {
    "ExecuteTime": {
     "end_time": "2022-06-28T13:03:32.064309Z",
     "start_time": "2022-06-28T13:03:31.956270Z"
    }
   },
   "outputs": [],
   "source": [
    "cols_na = ['target_fraud','last_amount_borrowed','last_borrowed_in_months','ok_since',\n",
    "           'external_data_provider_credit_checks_last_2_year', # columns with a large quantity of na valeus (=>50%)\n",
    "           'user_agent','profile_tags'] #columns I think it has little relevance\n",
    "\n",
    "df1 = df1.drop(cols_na,axis=1)"
   ]
  },
  {
   "cell_type": "markdown",
   "id": "baf8f91a",
   "metadata": {},
   "source": [
    "### 2.5.1.Fill NA values with mean"
   ]
  },
  {
   "cell_type": "code",
   "execution_count": 11,
   "id": "84f684e8",
   "metadata": {
    "ExecuteTime": {
     "end_time": "2022-06-28T13:03:32.191578Z",
     "start_time": "2022-06-28T13:03:32.067310Z"
    }
   },
   "outputs": [],
   "source": [
    "#score_3\n",
    "df1['score_3'] = df1['score_3'].fillna(df1['score_3'].mean())\n",
    "#risk_rate\n",
    "df1['risk_rate'] = df1['risk_rate'].fillna(df1['risk_rate'].mean())\n",
    "#income\n",
    "df1['income'] = df1['income'].fillna(df1['income'].median())\n",
    "#n_accounts\n",
    "df1['n_accounts'] = df1['n_accounts'].fillna(df1['n_accounts'].mean())"
   ]
  },
  {
   "cell_type": "markdown",
   "id": "e149b405",
   "metadata": {},
   "source": [
    "### 2.5.2.Fill NA values with median"
   ]
  },
  {
   "cell_type": "code",
   "execution_count": 12,
   "id": "f16f66a9",
   "metadata": {
    "ExecuteTime": {
     "end_time": "2022-06-28T13:03:32.333066Z",
     "start_time": "2022-06-28T13:03:32.195585Z"
    }
   },
   "outputs": [],
   "source": [
    "#n_issues\n",
    "#method = fill values with median\n",
    "#reason = because the values is approached to normal distribution\n",
    "df1['n_issues'] = df1['n_issues'].fillna(df1['n_issues'].median())"
   ]
  },
  {
   "cell_type": "markdown",
   "id": "6c437156",
   "metadata": {},
   "source": [
    "### 2.5.3.Fill Na values with mode"
   ]
  },
  {
   "cell_type": "code",
   "execution_count": 13,
   "id": "62c8314e",
   "metadata": {
    "ExecuteTime": {
     "end_time": "2022-06-28T13:03:32.664048Z",
     "start_time": "2022-06-28T13:03:32.336068Z"
    }
   },
   "outputs": [],
   "source": [
    "#marketing_channel\n",
    "df1['marketing_channel'] = df1['marketing_channel'].fillna(df1['marketing_channel'].mode(0)[0])\n",
    "\n",
    "#job_name\n",
    "df1['job_name'] = df1['job_name'].fillna(df1['job_name'].mode(1)[0])\n",
    "\n",
    "#external_data_provider_email_seen_before\n",
    "df1['external_data_provider_email_seen_before'] = df1['external_data_provider_email_seen_before'].fillna(df1['external_data_provider_email_seen_before'].mode(1)[0])\n",
    "\n",
    "#n_bankruptcies\n",
    "df1['n_bankruptcies'] = df1['n_bankruptcies'].fillna(df1['n_bankruptcies'].mode(0)[0])\n",
    "\n",
    "#n_defaulted_loans\n",
    "df1['n_defaulted_loans'] = df1['n_defaulted_loans'].fillna(df1['n_defaulted_loans'].mode(0)[0])\n",
    "\n",
    "#reason\n",
    "df1['reason'] = df1['reason'].fillna(df1['reason'].mode(0)[0])\n",
    "\n",
    "#channel\n",
    "df1['channel'] = df1['channel'].fillna(df1['channel'].mode(0)[0])\n",
    "\n",
    "#score_1\n",
    "df1['score_1'] = df1['score_1'].fillna(df1['score_1'].mode(0)[0])\n",
    "\n",
    "#real_state\n",
    "df1['real_state'] = df1['real_state'].fillna(df1['real_state'].mode(0)[0])\n",
    "\n",
    "#state\n",
    "df1['state'] = df1['state'].fillna(df1['state'].mode(0)[0])\n",
    "\n",
    "#score_2\n",
    "df1['score_2'] = df1['score_2'].fillna(df1['score_2'].mode(0)[0])\n",
    "\n",
    "#lat_lon\n",
    "df1['lat_lon'] = df1['lat_lon'].fillna(df1['lat_lon'].mode(1)[0])"
   ]
  },
  {
   "cell_type": "markdown",
   "id": "9d80a4db",
   "metadata": {},
   "source": [
    "### 2.5.4.Fill NA values with another values"
   ]
  },
  {
   "cell_type": "code",
   "execution_count": 14,
   "id": "adf28471",
   "metadata": {
    "ExecuteTime": {
     "end_time": "2022-06-28T13:03:32.696055Z",
     "start_time": "2022-06-28T13:03:32.667047Z"
    }
   },
   "outputs": [],
   "source": [
    "#external_data_provider_credit_checks_last_year\n",
    "#resoan = substitution with random values to avoid data unbalanced(its a test)\n",
    "df1['external_data_provider_credit_checks_last_year'] = df1['external_data_provider_credit_checks_last_year'].fillna(random.choice([0,1]))\n",
    "\n",
    "#credit_limit\n",
    "#reason = because na values represents to my that this persoan dont have credit limit\n",
    "df1['credit_limit'] = df1['credit_limit'].fillna(0)\n",
    "\n",
    "\n",
    "#reason = because Na values in this columns represents to my that person don't have or don't passed zip and facebook profile.\n",
    "#zip\n",
    "df1['zip'] = df1['zip'].fillna('no address')\n",
    "#facebook_profile\n",
    "df1['facebook_profile'] = df1['facebook_profile'].fillna(False)"
   ]
  },
  {
   "cell_type": "code",
   "execution_count": 15,
   "id": "f6256119",
   "metadata": {
    "ExecuteTime": {
     "end_time": "2022-06-28T13:03:32.949049Z",
     "start_time": "2022-06-28T13:03:32.700045Z"
    }
   },
   "outputs": [],
   "source": [
    "#target_default and lat_lon\n",
    "#reason: target_default: bacause its my target variable\n",
    "df1 = df1.dropna()"
   ]
  },
  {
   "cell_type": "code",
   "execution_count": 16,
   "id": "7d79316a",
   "metadata": {
    "ExecuteTime": {
     "end_time": "2022-06-28T13:03:33.076047Z",
     "start_time": "2022-06-28T13:03:32.953047Z"
    }
   },
   "outputs": [
    {
     "data": {
      "text/plain": [
       "ids                                                0\n",
       "target_default                                     0\n",
       "score_1                                            0\n",
       "score_2                                            0\n",
       "score_3                                            0\n",
       "score_4                                            0\n",
       "score_5                                            0\n",
       "score_6                                            0\n",
       "risk_rate                                          0\n",
       "credit_limit                                       0\n",
       "reason                                             0\n",
       "income                                             0\n",
       "facebook_profile                                   0\n",
       "state                                              0\n",
       "zip                                                0\n",
       "channel                                            0\n",
       "job_name                                           0\n",
       "real_state                                         0\n",
       "n_bankruptcies                                     0\n",
       "n_defaulted_loans                                  0\n",
       "n_accounts                                         0\n",
       "n_issues                                           0\n",
       "application_time_applied                           0\n",
       "application_time_in_funnel                         0\n",
       "email                                              0\n",
       "external_data_provider_credit_checks_last_month    0\n",
       "external_data_provider_credit_checks_last_year     0\n",
       "external_data_provider_email_seen_before           0\n",
       "external_data_provider_first_name                  0\n",
       "external_data_provider_fraud_score                 0\n",
       "lat_lon                                            0\n",
       "marketing_channel                                  0\n",
       "profile_phone_number                               0\n",
       "reported_income                                    0\n",
       "shipping_state                                     0\n",
       "shipping_zip_code                                  0\n",
       "dtype: int64"
      ]
     },
     "execution_count": 16,
     "metadata": {},
     "output_type": "execute_result"
    }
   ],
   "source": [
    "df1.isnull().sum()"
   ]
  },
  {
   "cell_type": "code",
   "execution_count": 17,
   "id": "47455d4c",
   "metadata": {
    "ExecuteTime": {
     "end_time": "2022-06-28T13:03:33.092053Z",
     "start_time": "2022-06-28T13:03:33.080048Z"
    }
   },
   "outputs": [
    {
     "name": "stdout",
     "output_type": "stream",
     "text": [
      "Number of Rows: 41741\n",
      "Number of Columns: 36\n"
     ]
    }
   ],
   "source": [
    "data_dimensions(df1)"
   ]
  },
  {
   "cell_type": "markdown",
   "id": "f3469dd8",
   "metadata": {},
   "source": [
    "## 2.6. Data Cleaning"
   ]
  },
  {
   "cell_type": "code",
   "execution_count": 18,
   "id": "d5a5bbb8",
   "metadata": {
    "ExecuteTime": {
     "end_time": "2022-06-28T13:03:33.281579Z",
     "start_time": "2022-06-28T13:03:33.099048Z"
    }
   },
   "outputs": [],
   "source": [
    "#cleaning up additional space\n",
    "df1['target_default'] = df1['target_default'].apply(lambda x: str(x).strip())"
   ]
  },
  {
   "cell_type": "markdown",
   "id": "39f5da12",
   "metadata": {},
   "source": [
    "# 3.0.Data Filtering"
   ]
  },
  {
   "cell_type": "code",
   "execution_count": 19,
   "id": "d76fb4f9",
   "metadata": {
    "ExecuteTime": {
     "end_time": "2022-06-28T13:03:33.439487Z",
     "start_time": "2022-06-28T13:03:33.284578Z"
    }
   },
   "outputs": [
    {
     "data": {
      "text/html": [
       "<div>\n",
       "<style scoped>\n",
       "    .dataframe tbody tr th:only-of-type {\n",
       "        vertical-align: middle;\n",
       "    }\n",
       "\n",
       "    .dataframe tbody tr th {\n",
       "        vertical-align: top;\n",
       "    }\n",
       "\n",
       "    .dataframe thead th {\n",
       "        text-align: right;\n",
       "    }\n",
       "</style>\n",
       "<table border=\"1\" class=\"dataframe\">\n",
       "  <thead>\n",
       "    <tr style=\"text-align: right;\">\n",
       "      <th></th>\n",
       "      <th>ids</th>\n",
       "      <th>target_default</th>\n",
       "      <th>score_1</th>\n",
       "      <th>score_2</th>\n",
       "      <th>score_3</th>\n",
       "      <th>score_4</th>\n",
       "      <th>score_5</th>\n",
       "      <th>score_6</th>\n",
       "      <th>risk_rate</th>\n",
       "      <th>credit_limit</th>\n",
       "      <th>reason</th>\n",
       "      <th>income</th>\n",
       "      <th>facebook_profile</th>\n",
       "      <th>state</th>\n",
       "      <th>zip</th>\n",
       "      <th>channel</th>\n",
       "      <th>job_name</th>\n",
       "      <th>real_state</th>\n",
       "      <th>n_bankruptcies</th>\n",
       "      <th>n_defaulted_loans</th>\n",
       "      <th>n_accounts</th>\n",
       "      <th>n_issues</th>\n",
       "      <th>application_time_applied</th>\n",
       "      <th>application_time_in_funnel</th>\n",
       "      <th>email</th>\n",
       "      <th>external_data_provider_credit_checks_last_month</th>\n",
       "      <th>external_data_provider_credit_checks_last_year</th>\n",
       "      <th>external_data_provider_email_seen_before</th>\n",
       "      <th>external_data_provider_first_name</th>\n",
       "      <th>external_data_provider_fraud_score</th>\n",
       "      <th>lat_lon</th>\n",
       "      <th>marketing_channel</th>\n",
       "      <th>profile_phone_number</th>\n",
       "      <th>reported_income</th>\n",
       "      <th>shipping_state</th>\n",
       "      <th>shipping_zip_code</th>\n",
       "    </tr>\n",
       "  </thead>\n",
       "  <tbody>\n",
       "    <tr>\n",
       "      <th>0</th>\n",
       "      <td>343b7e7b-2cf8-e508-b8fd-0a0285af30aa</td>\n",
       "      <td>False</td>\n",
       "      <td>1Rk8w4Ucd5yR3KcqZzLdow==</td>\n",
       "      <td>IOVu8au3ISbo6+zmfnYwMg==</td>\n",
       "      <td>350.0</td>\n",
       "      <td>101.800832</td>\n",
       "      <td>0.259555</td>\n",
       "      <td>108.427273</td>\n",
       "      <td>0.40</td>\n",
       "      <td>0.0</td>\n",
       "      <td>mLVIVxoGY7TUDJ1FyFoSIZi1SFcaBmO01AydRchaEiGYtU...</td>\n",
       "      <td>65014.12</td>\n",
       "      <td>True</td>\n",
       "      <td>sjJbkqJS7cXalHLBFA+EOQ==</td>\n",
       "      <td>Ernn+uVXCMq/6ARrBCcd+A==</td>\n",
       "      <td>NCqL3QBx0pscDnx3ixKwXg==</td>\n",
       "      <td>mLVIVxoGY7TUDJ1FyFoSIZi1SFcaBmO01AydRchaEiGYtU...</td>\n",
       "      <td>N5/CE7lSkAfB04hVFFwllw==</td>\n",
       "      <td>0.0</td>\n",
       "      <td>0.0</td>\n",
       "      <td>18.0</td>\n",
       "      <td>18.0</td>\n",
       "      <td>07:52:34</td>\n",
       "      <td>444</td>\n",
       "      <td>outlook.com</td>\n",
       "      <td>2</td>\n",
       "      <td>0.0</td>\n",
       "      <td>51.0</td>\n",
       "      <td>leidelaura</td>\n",
       "      <td>645</td>\n",
       "      <td>(-29.151545708122246, -51.1386461804385)</td>\n",
       "      <td>Invite-email</td>\n",
       "      <td>514-9840782</td>\n",
       "      <td>57849.0</td>\n",
       "      <td>BR-MT</td>\n",
       "      <td>17528</td>\n",
       "    </tr>\n",
       "    <tr>\n",
       "      <th>1</th>\n",
       "      <td>bc2c7502-bbad-0f8c-39c3-94e881967124</td>\n",
       "      <td>False</td>\n",
       "      <td>DGCQep2AE5QRkNCshIAlFQ==</td>\n",
       "      <td>SaamrHMo23l/3TwXOWgVzw==</td>\n",
       "      <td>370.0</td>\n",
       "      <td>97.062615</td>\n",
       "      <td>0.942655</td>\n",
       "      <td>92.002546</td>\n",
       "      <td>0.24</td>\n",
       "      <td>39726.0</td>\n",
       "      <td>mLVIVxoGY7TUDJ1FyFoSIZi1SFcaBmO01AydRchaEiGYtU...</td>\n",
       "      <td>100018.91</td>\n",
       "      <td>False</td>\n",
       "      <td>xsd3ZdsI3356I3xMxZeiqQ==</td>\n",
       "      <td>rlWIXTBO+VOa34+SpGyhlQ==</td>\n",
       "      <td>NCqL3QBx0pscDnx3ixKwXg==</td>\n",
       "      <td>mLVIVxoGY7TUDJ1FyFoSIZi1SFcaBmO01AydRchaEiGYtU...</td>\n",
       "      <td>N5/CE7lSkAfB04hVFFwllw==</td>\n",
       "      <td>0.0</td>\n",
       "      <td>0.0</td>\n",
       "      <td>14.0</td>\n",
       "      <td>14.0</td>\n",
       "      <td>02:34:29</td>\n",
       "      <td>346</td>\n",
       "      <td>gmail.com</td>\n",
       "      <td>1</td>\n",
       "      <td>0.0</td>\n",
       "      <td>17.0</td>\n",
       "      <td>diocezio</td>\n",
       "      <td>243</td>\n",
       "      <td>(-19.687710705798963, -47.94151536525154)</td>\n",
       "      <td>Radio-commercial</td>\n",
       "      <td>251-3659293</td>\n",
       "      <td>4902.0</td>\n",
       "      <td>BR-RS</td>\n",
       "      <td>40933</td>\n",
       "    </tr>\n",
       "    <tr>\n",
       "      <th>2</th>\n",
       "      <td>669630dd-2e6a-0396-84bf-455e5009c922</td>\n",
       "      <td>True</td>\n",
       "      <td>DGCQep2AE5QRkNCshIAlFQ==</td>\n",
       "      <td>Fv28Bz0YRTVAT5kl1bAV6g==</td>\n",
       "      <td>360.0</td>\n",
       "      <td>100.027073</td>\n",
       "      <td>0.351918</td>\n",
       "      <td>112.892453</td>\n",
       "      <td>0.29</td>\n",
       "      <td>0.0</td>\n",
       "      <td>mLVIVxoGY7TUDJ1FyFoSIZi1SFcaBmO01AydRchaEiGYtU...</td>\n",
       "      <td>65023.65</td>\n",
       "      <td>False</td>\n",
       "      <td>Ygq6MsM98oC8yceExr69Ig==</td>\n",
       "      <td>PjTIDfJsK0DKL9fO7vuW2g==</td>\n",
       "      <td>NCqL3QBx0pscDnx3ixKwXg==</td>\n",
       "      <td>mLVIVxoGY7TUDJ1FyFoSIZi1SFcaBmO01AydRchaEiGYtU...</td>\n",
       "      <td>n+xK9CfX0bCn77lClTWviw==</td>\n",
       "      <td>0.0</td>\n",
       "      <td>0.0</td>\n",
       "      <td>10.0</td>\n",
       "      <td>10.0</td>\n",
       "      <td>00:60:02</td>\n",
       "      <td>6</td>\n",
       "      <td>gmail.com</td>\n",
       "      <td>2</td>\n",
       "      <td>0.0</td>\n",
       "      <td>9.0</td>\n",
       "      <td>veralucia</td>\n",
       "      <td>65</td>\n",
       "      <td>(-28.748023890412284, -51.867279334353995)</td>\n",
       "      <td>Waiting-list</td>\n",
       "      <td>230-6097993</td>\n",
       "      <td>163679.0</td>\n",
       "      <td>BR-RR</td>\n",
       "      <td>50985</td>\n",
       "    </tr>\n",
       "    <tr>\n",
       "      <th>3</th>\n",
       "      <td>d235609e-b6cb-0ccc-a329-d4f12e7ebdc1</td>\n",
       "      <td>False</td>\n",
       "      <td>1Rk8w4Ucd5yR3KcqZzLdow==</td>\n",
       "      <td>dCm9hFKfdRm7ej3jW+gyxw==</td>\n",
       "      <td>510.0</td>\n",
       "      <td>101.599485</td>\n",
       "      <td>0.987673</td>\n",
       "      <td>94.902491</td>\n",
       "      <td>0.32</td>\n",
       "      <td>54591.0</td>\n",
       "      <td>mLVIVxoGY7TUDJ1FyFoSIZi1SFcaBmO01AydRchaEiGYtU...</td>\n",
       "      <td>68830.01</td>\n",
       "      <td>False</td>\n",
       "      <td>KET/Pmr6rHp1RJ/P9ymztw==</td>\n",
       "      <td>Cc/kWDLQH3dpHv5HU+pLVA==</td>\n",
       "      <td>NCqL3QBx0pscDnx3ixKwXg==</td>\n",
       "      <td>mLVIVxoGY7TUDJ1FyFoSIZi1SFcaBmO01AydRchaEiE56f...</td>\n",
       "      <td>n+xK9CfX0bCn77lClTWviw==</td>\n",
       "      <td>1.0</td>\n",
       "      <td>0.0</td>\n",
       "      <td>19.0</td>\n",
       "      <td>19.0</td>\n",
       "      <td>11:20:49</td>\n",
       "      <td>406</td>\n",
       "      <td>spgov.com</td>\n",
       "      <td>3</td>\n",
       "      <td>0.0</td>\n",
       "      <td>38.0</td>\n",
       "      <td>venice</td>\n",
       "      <td>815</td>\n",
       "      <td>(-17.520650158450454, -39.75801139933186)</td>\n",
       "      <td>Waiting-list</td>\n",
       "      <td>261-3543751</td>\n",
       "      <td>1086.0</td>\n",
       "      <td>BR-RN</td>\n",
       "      <td>37825</td>\n",
       "    </tr>\n",
       "    <tr>\n",
       "      <th>4</th>\n",
       "      <td>9e0eb880-e8f4-3faa-67d8-f5cdd2b3932b</td>\n",
       "      <td>False</td>\n",
       "      <td>8k8UDR4Yx0qasAjkGrUZLw==</td>\n",
       "      <td>+CxEO4w7jv3QPI/BQbyqAA==</td>\n",
       "      <td>500.0</td>\n",
       "      <td>98.474289</td>\n",
       "      <td>0.532539</td>\n",
       "      <td>118.126207</td>\n",
       "      <td>0.18</td>\n",
       "      <td>0.0</td>\n",
       "      <td>mLVIVxoGY7TUDJ1FyFoSIZi1SFcaBmO01AydRchaEiGYtU...</td>\n",
       "      <td>60011.29</td>\n",
       "      <td>True</td>\n",
       "      <td>xsd3ZdsI3356I3xMxZeiqQ==</td>\n",
       "      <td>i036nmJ7rfxo+3EvCD7Jnw==</td>\n",
       "      <td>NCqL3QBx0pscDnx3ixKwXg==</td>\n",
       "      <td>mLVIVxoGY7TUDJ1FyFoSIZi1SFcaBmO01AydRchaEiGYtU...</td>\n",
       "      <td>n+xK9CfX0bCn77lClTWviw==</td>\n",
       "      <td>0.0</td>\n",
       "      <td>0.0</td>\n",
       "      <td>11.0</td>\n",
       "      <td>10.0</td>\n",
       "      <td>13:39:03</td>\n",
       "      <td>240</td>\n",
       "      <td>gmail.com</td>\n",
       "      <td>2</td>\n",
       "      <td>1.0</td>\n",
       "      <td>46.0</td>\n",
       "      <td>darzisa</td>\n",
       "      <td>320</td>\n",
       "      <td>(-16.574259446978008, -39.90990074785962)</td>\n",
       "      <td>Invite-email</td>\n",
       "      <td>102-3660162</td>\n",
       "      <td>198618.0</td>\n",
       "      <td>BR-MT</td>\n",
       "      <td>52827</td>\n",
       "    </tr>\n",
       "  </tbody>\n",
       "</table>\n",
       "</div>"
      ],
      "text/plain": [
       "                                    ids target_default  \\\n",
       "0  343b7e7b-2cf8-e508-b8fd-0a0285af30aa          False   \n",
       "1  bc2c7502-bbad-0f8c-39c3-94e881967124          False   \n",
       "2  669630dd-2e6a-0396-84bf-455e5009c922           True   \n",
       "3  d235609e-b6cb-0ccc-a329-d4f12e7ebdc1          False   \n",
       "4  9e0eb880-e8f4-3faa-67d8-f5cdd2b3932b          False   \n",
       "\n",
       "                    score_1                   score_2  score_3     score_4  \\\n",
       "0  1Rk8w4Ucd5yR3KcqZzLdow==  IOVu8au3ISbo6+zmfnYwMg==    350.0  101.800832   \n",
       "1  DGCQep2AE5QRkNCshIAlFQ==  SaamrHMo23l/3TwXOWgVzw==    370.0   97.062615   \n",
       "2  DGCQep2AE5QRkNCshIAlFQ==  Fv28Bz0YRTVAT5kl1bAV6g==    360.0  100.027073   \n",
       "3  1Rk8w4Ucd5yR3KcqZzLdow==  dCm9hFKfdRm7ej3jW+gyxw==    510.0  101.599485   \n",
       "4  8k8UDR4Yx0qasAjkGrUZLw==  +CxEO4w7jv3QPI/BQbyqAA==    500.0   98.474289   \n",
       "\n",
       "    score_5     score_6  risk_rate  credit_limit  \\\n",
       "0  0.259555  108.427273       0.40           0.0   \n",
       "1  0.942655   92.002546       0.24       39726.0   \n",
       "2  0.351918  112.892453       0.29           0.0   \n",
       "3  0.987673   94.902491       0.32       54591.0   \n",
       "4  0.532539  118.126207       0.18           0.0   \n",
       "\n",
       "                                              reason     income  \\\n",
       "0  mLVIVxoGY7TUDJ1FyFoSIZi1SFcaBmO01AydRchaEiGYtU...   65014.12   \n",
       "1  mLVIVxoGY7TUDJ1FyFoSIZi1SFcaBmO01AydRchaEiGYtU...  100018.91   \n",
       "2  mLVIVxoGY7TUDJ1FyFoSIZi1SFcaBmO01AydRchaEiGYtU...   65023.65   \n",
       "3  mLVIVxoGY7TUDJ1FyFoSIZi1SFcaBmO01AydRchaEiGYtU...   68830.01   \n",
       "4  mLVIVxoGY7TUDJ1FyFoSIZi1SFcaBmO01AydRchaEiGYtU...   60011.29   \n",
       "\n",
       "   facebook_profile                     state                       zip  \\\n",
       "0              True  sjJbkqJS7cXalHLBFA+EOQ==  Ernn+uVXCMq/6ARrBCcd+A==   \n",
       "1             False  xsd3ZdsI3356I3xMxZeiqQ==  rlWIXTBO+VOa34+SpGyhlQ==   \n",
       "2             False  Ygq6MsM98oC8yceExr69Ig==  PjTIDfJsK0DKL9fO7vuW2g==   \n",
       "3             False  KET/Pmr6rHp1RJ/P9ymztw==  Cc/kWDLQH3dpHv5HU+pLVA==   \n",
       "4              True  xsd3ZdsI3356I3xMxZeiqQ==  i036nmJ7rfxo+3EvCD7Jnw==   \n",
       "\n",
       "                    channel  \\\n",
       "0  NCqL3QBx0pscDnx3ixKwXg==   \n",
       "1  NCqL3QBx0pscDnx3ixKwXg==   \n",
       "2  NCqL3QBx0pscDnx3ixKwXg==   \n",
       "3  NCqL3QBx0pscDnx3ixKwXg==   \n",
       "4  NCqL3QBx0pscDnx3ixKwXg==   \n",
       "\n",
       "                                            job_name  \\\n",
       "0  mLVIVxoGY7TUDJ1FyFoSIZi1SFcaBmO01AydRchaEiGYtU...   \n",
       "1  mLVIVxoGY7TUDJ1FyFoSIZi1SFcaBmO01AydRchaEiGYtU...   \n",
       "2  mLVIVxoGY7TUDJ1FyFoSIZi1SFcaBmO01AydRchaEiGYtU...   \n",
       "3  mLVIVxoGY7TUDJ1FyFoSIZi1SFcaBmO01AydRchaEiE56f...   \n",
       "4  mLVIVxoGY7TUDJ1FyFoSIZi1SFcaBmO01AydRchaEiGYtU...   \n",
       "\n",
       "                 real_state  n_bankruptcies  n_defaulted_loans  n_accounts  \\\n",
       "0  N5/CE7lSkAfB04hVFFwllw==             0.0                0.0        18.0   \n",
       "1  N5/CE7lSkAfB04hVFFwllw==             0.0                0.0        14.0   \n",
       "2  n+xK9CfX0bCn77lClTWviw==             0.0                0.0        10.0   \n",
       "3  n+xK9CfX0bCn77lClTWviw==             1.0                0.0        19.0   \n",
       "4  n+xK9CfX0bCn77lClTWviw==             0.0                0.0        11.0   \n",
       "\n",
       "   n_issues application_time_applied  application_time_in_funnel        email  \\\n",
       "0      18.0                 07:52:34                         444  outlook.com   \n",
       "1      14.0                 02:34:29                         346    gmail.com   \n",
       "2      10.0                 00:60:02                           6    gmail.com   \n",
       "3      19.0                 11:20:49                         406    spgov.com   \n",
       "4      10.0                 13:39:03                         240    gmail.com   \n",
       "\n",
       "   external_data_provider_credit_checks_last_month  \\\n",
       "0                                                2   \n",
       "1                                                1   \n",
       "2                                                2   \n",
       "3                                                3   \n",
       "4                                                2   \n",
       "\n",
       "   external_data_provider_credit_checks_last_year  \\\n",
       "0                                             0.0   \n",
       "1                                             0.0   \n",
       "2                                             0.0   \n",
       "3                                             0.0   \n",
       "4                                             1.0   \n",
       "\n",
       "   external_data_provider_email_seen_before external_data_provider_first_name  \\\n",
       "0                                      51.0                        leidelaura   \n",
       "1                                      17.0                          diocezio   \n",
       "2                                       9.0                         veralucia   \n",
       "3                                      38.0                            venice   \n",
       "4                                      46.0                           darzisa   \n",
       "\n",
       "   external_data_provider_fraud_score  \\\n",
       "0                                 645   \n",
       "1                                 243   \n",
       "2                                  65   \n",
       "3                                 815   \n",
       "4                                 320   \n",
       "\n",
       "                                      lat_lon marketing_channel  \\\n",
       "0    (-29.151545708122246, -51.1386461804385)      Invite-email   \n",
       "1   (-19.687710705798963, -47.94151536525154)  Radio-commercial   \n",
       "2  (-28.748023890412284, -51.867279334353995)      Waiting-list   \n",
       "3   (-17.520650158450454, -39.75801139933186)      Waiting-list   \n",
       "4   (-16.574259446978008, -39.90990074785962)      Invite-email   \n",
       "\n",
       "  profile_phone_number  reported_income shipping_state  shipping_zip_code  \n",
       "0          514-9840782          57849.0          BR-MT              17528  \n",
       "1          251-3659293           4902.0          BR-RS              40933  \n",
       "2          230-6097993         163679.0          BR-RR              50985  \n",
       "3          261-3543751           1086.0          BR-RN              37825  \n",
       "4          102-3660162         198618.0          BR-MT              52827  "
      ]
     },
     "execution_count": 19,
     "metadata": {},
     "output_type": "execute_result"
    }
   ],
   "source": [
    "df2 = df1.copy()\n",
    "df2.head()"
   ]
  },
  {
   "cell_type": "markdown",
   "id": "dc0673f3",
   "metadata": {},
   "source": [
    "## 3.1.Filter Rows"
   ]
  },
  {
   "cell_type": "code",
   "execution_count": 20,
   "id": "c9a8a591",
   "metadata": {
    "ExecuteTime": {
     "end_time": "2022-06-28T13:03:33.471487Z",
     "start_time": "2022-06-28T13:03:33.442489Z"
    }
   },
   "outputs": [],
   "source": [
    "#Drop data with value Infinit\n",
    "df2= df2[df2['reported_income']!= np.inf]"
   ]
  },
  {
   "cell_type": "markdown",
   "id": "f76e9981",
   "metadata": {},
   "source": [
    "## 3.2.Filter columns"
   ]
  },
  {
   "cell_type": "code",
   "execution_count": null,
   "id": "1ebf98af",
   "metadata": {
    "ExecuteTime": {
     "end_time": "2022-06-22T15:26:37.865548Z",
     "start_time": "2022-06-22T15:26:37.774875Z"
    }
   },
   "outputs": [],
   "source": []
  },
  {
   "cell_type": "markdown",
   "id": "5f1e6caf",
   "metadata": {},
   "source": [
    "# 4.0.Data Preparation"
   ]
  },
  {
   "cell_type": "code",
   "execution_count": 21,
   "id": "49f04eb1",
   "metadata": {
    "ExecuteTime": {
     "end_time": "2022-06-28T13:03:33.693488Z",
     "start_time": "2022-06-28T13:03:33.475488Z"
    }
   },
   "outputs": [
    {
     "data": {
      "text/html": [
       "<div>\n",
       "<style scoped>\n",
       "    .dataframe tbody tr th:only-of-type {\n",
       "        vertical-align: middle;\n",
       "    }\n",
       "\n",
       "    .dataframe tbody tr th {\n",
       "        vertical-align: top;\n",
       "    }\n",
       "\n",
       "    .dataframe thead th {\n",
       "        text-align: right;\n",
       "    }\n",
       "</style>\n",
       "<table border=\"1\" class=\"dataframe\">\n",
       "  <thead>\n",
       "    <tr style=\"text-align: right;\">\n",
       "      <th></th>\n",
       "      <th>ids</th>\n",
       "      <th>target_default</th>\n",
       "      <th>score_1</th>\n",
       "      <th>score_2</th>\n",
       "      <th>score_3</th>\n",
       "      <th>score_4</th>\n",
       "      <th>score_5</th>\n",
       "      <th>score_6</th>\n",
       "      <th>risk_rate</th>\n",
       "      <th>credit_limit</th>\n",
       "      <th>reason</th>\n",
       "      <th>income</th>\n",
       "      <th>facebook_profile</th>\n",
       "      <th>state</th>\n",
       "      <th>zip</th>\n",
       "      <th>channel</th>\n",
       "      <th>job_name</th>\n",
       "      <th>real_state</th>\n",
       "      <th>n_bankruptcies</th>\n",
       "      <th>n_defaulted_loans</th>\n",
       "      <th>n_accounts</th>\n",
       "      <th>n_issues</th>\n",
       "      <th>application_time_applied</th>\n",
       "      <th>application_time_in_funnel</th>\n",
       "      <th>email</th>\n",
       "      <th>external_data_provider_credit_checks_last_month</th>\n",
       "      <th>external_data_provider_credit_checks_last_year</th>\n",
       "      <th>external_data_provider_email_seen_before</th>\n",
       "      <th>external_data_provider_first_name</th>\n",
       "      <th>external_data_provider_fraud_score</th>\n",
       "      <th>lat_lon</th>\n",
       "      <th>marketing_channel</th>\n",
       "      <th>profile_phone_number</th>\n",
       "      <th>reported_income</th>\n",
       "      <th>shipping_state</th>\n",
       "      <th>shipping_zip_code</th>\n",
       "    </tr>\n",
       "  </thead>\n",
       "  <tbody>\n",
       "    <tr>\n",
       "      <th>0</th>\n",
       "      <td>343b7e7b-2cf8-e508-b8fd-0a0285af30aa</td>\n",
       "      <td>False</td>\n",
       "      <td>1Rk8w4Ucd5yR3KcqZzLdow==</td>\n",
       "      <td>IOVu8au3ISbo6+zmfnYwMg==</td>\n",
       "      <td>350.0</td>\n",
       "      <td>101.800832</td>\n",
       "      <td>0.259555</td>\n",
       "      <td>108.427273</td>\n",
       "      <td>0.40</td>\n",
       "      <td>0.0</td>\n",
       "      <td>mLVIVxoGY7TUDJ1FyFoSIZi1SFcaBmO01AydRchaEiGYtU...</td>\n",
       "      <td>65014.12</td>\n",
       "      <td>True</td>\n",
       "      <td>sjJbkqJS7cXalHLBFA+EOQ==</td>\n",
       "      <td>Ernn+uVXCMq/6ARrBCcd+A==</td>\n",
       "      <td>NCqL3QBx0pscDnx3ixKwXg==</td>\n",
       "      <td>mLVIVxoGY7TUDJ1FyFoSIZi1SFcaBmO01AydRchaEiGYtU...</td>\n",
       "      <td>N5/CE7lSkAfB04hVFFwllw==</td>\n",
       "      <td>0.0</td>\n",
       "      <td>0.0</td>\n",
       "      <td>18.0</td>\n",
       "      <td>18.0</td>\n",
       "      <td>07:52:34</td>\n",
       "      <td>444</td>\n",
       "      <td>outlook.com</td>\n",
       "      <td>2</td>\n",
       "      <td>0.0</td>\n",
       "      <td>51.0</td>\n",
       "      <td>leidelaura</td>\n",
       "      <td>645</td>\n",
       "      <td>(-29.151545708122246, -51.1386461804385)</td>\n",
       "      <td>Invite-email</td>\n",
       "      <td>514-9840782</td>\n",
       "      <td>57849.0</td>\n",
       "      <td>BR-MT</td>\n",
       "      <td>17528</td>\n",
       "    </tr>\n",
       "    <tr>\n",
       "      <th>1</th>\n",
       "      <td>bc2c7502-bbad-0f8c-39c3-94e881967124</td>\n",
       "      <td>False</td>\n",
       "      <td>DGCQep2AE5QRkNCshIAlFQ==</td>\n",
       "      <td>SaamrHMo23l/3TwXOWgVzw==</td>\n",
       "      <td>370.0</td>\n",
       "      <td>97.062615</td>\n",
       "      <td>0.942655</td>\n",
       "      <td>92.002546</td>\n",
       "      <td>0.24</td>\n",
       "      <td>39726.0</td>\n",
       "      <td>mLVIVxoGY7TUDJ1FyFoSIZi1SFcaBmO01AydRchaEiGYtU...</td>\n",
       "      <td>100018.91</td>\n",
       "      <td>False</td>\n",
       "      <td>xsd3ZdsI3356I3xMxZeiqQ==</td>\n",
       "      <td>rlWIXTBO+VOa34+SpGyhlQ==</td>\n",
       "      <td>NCqL3QBx0pscDnx3ixKwXg==</td>\n",
       "      <td>mLVIVxoGY7TUDJ1FyFoSIZi1SFcaBmO01AydRchaEiGYtU...</td>\n",
       "      <td>N5/CE7lSkAfB04hVFFwllw==</td>\n",
       "      <td>0.0</td>\n",
       "      <td>0.0</td>\n",
       "      <td>14.0</td>\n",
       "      <td>14.0</td>\n",
       "      <td>02:34:29</td>\n",
       "      <td>346</td>\n",
       "      <td>gmail.com</td>\n",
       "      <td>1</td>\n",
       "      <td>0.0</td>\n",
       "      <td>17.0</td>\n",
       "      <td>diocezio</td>\n",
       "      <td>243</td>\n",
       "      <td>(-19.687710705798963, -47.94151536525154)</td>\n",
       "      <td>Radio-commercial</td>\n",
       "      <td>251-3659293</td>\n",
       "      <td>4902.0</td>\n",
       "      <td>BR-RS</td>\n",
       "      <td>40933</td>\n",
       "    </tr>\n",
       "    <tr>\n",
       "      <th>2</th>\n",
       "      <td>669630dd-2e6a-0396-84bf-455e5009c922</td>\n",
       "      <td>True</td>\n",
       "      <td>DGCQep2AE5QRkNCshIAlFQ==</td>\n",
       "      <td>Fv28Bz0YRTVAT5kl1bAV6g==</td>\n",
       "      <td>360.0</td>\n",
       "      <td>100.027073</td>\n",
       "      <td>0.351918</td>\n",
       "      <td>112.892453</td>\n",
       "      <td>0.29</td>\n",
       "      <td>0.0</td>\n",
       "      <td>mLVIVxoGY7TUDJ1FyFoSIZi1SFcaBmO01AydRchaEiGYtU...</td>\n",
       "      <td>65023.65</td>\n",
       "      <td>False</td>\n",
       "      <td>Ygq6MsM98oC8yceExr69Ig==</td>\n",
       "      <td>PjTIDfJsK0DKL9fO7vuW2g==</td>\n",
       "      <td>NCqL3QBx0pscDnx3ixKwXg==</td>\n",
       "      <td>mLVIVxoGY7TUDJ1FyFoSIZi1SFcaBmO01AydRchaEiGYtU...</td>\n",
       "      <td>n+xK9CfX0bCn77lClTWviw==</td>\n",
       "      <td>0.0</td>\n",
       "      <td>0.0</td>\n",
       "      <td>10.0</td>\n",
       "      <td>10.0</td>\n",
       "      <td>00:60:02</td>\n",
       "      <td>6</td>\n",
       "      <td>gmail.com</td>\n",
       "      <td>2</td>\n",
       "      <td>0.0</td>\n",
       "      <td>9.0</td>\n",
       "      <td>veralucia</td>\n",
       "      <td>65</td>\n",
       "      <td>(-28.748023890412284, -51.867279334353995)</td>\n",
       "      <td>Waiting-list</td>\n",
       "      <td>230-6097993</td>\n",
       "      <td>163679.0</td>\n",
       "      <td>BR-RR</td>\n",
       "      <td>50985</td>\n",
       "    </tr>\n",
       "    <tr>\n",
       "      <th>3</th>\n",
       "      <td>d235609e-b6cb-0ccc-a329-d4f12e7ebdc1</td>\n",
       "      <td>False</td>\n",
       "      <td>1Rk8w4Ucd5yR3KcqZzLdow==</td>\n",
       "      <td>dCm9hFKfdRm7ej3jW+gyxw==</td>\n",
       "      <td>510.0</td>\n",
       "      <td>101.599485</td>\n",
       "      <td>0.987673</td>\n",
       "      <td>94.902491</td>\n",
       "      <td>0.32</td>\n",
       "      <td>54591.0</td>\n",
       "      <td>mLVIVxoGY7TUDJ1FyFoSIZi1SFcaBmO01AydRchaEiGYtU...</td>\n",
       "      <td>68830.01</td>\n",
       "      <td>False</td>\n",
       "      <td>KET/Pmr6rHp1RJ/P9ymztw==</td>\n",
       "      <td>Cc/kWDLQH3dpHv5HU+pLVA==</td>\n",
       "      <td>NCqL3QBx0pscDnx3ixKwXg==</td>\n",
       "      <td>mLVIVxoGY7TUDJ1FyFoSIZi1SFcaBmO01AydRchaEiE56f...</td>\n",
       "      <td>n+xK9CfX0bCn77lClTWviw==</td>\n",
       "      <td>1.0</td>\n",
       "      <td>0.0</td>\n",
       "      <td>19.0</td>\n",
       "      <td>19.0</td>\n",
       "      <td>11:20:49</td>\n",
       "      <td>406</td>\n",
       "      <td>spgov.com</td>\n",
       "      <td>3</td>\n",
       "      <td>0.0</td>\n",
       "      <td>38.0</td>\n",
       "      <td>venice</td>\n",
       "      <td>815</td>\n",
       "      <td>(-17.520650158450454, -39.75801139933186)</td>\n",
       "      <td>Waiting-list</td>\n",
       "      <td>261-3543751</td>\n",
       "      <td>1086.0</td>\n",
       "      <td>BR-RN</td>\n",
       "      <td>37825</td>\n",
       "    </tr>\n",
       "    <tr>\n",
       "      <th>4</th>\n",
       "      <td>9e0eb880-e8f4-3faa-67d8-f5cdd2b3932b</td>\n",
       "      <td>False</td>\n",
       "      <td>8k8UDR4Yx0qasAjkGrUZLw==</td>\n",
       "      <td>+CxEO4w7jv3QPI/BQbyqAA==</td>\n",
       "      <td>500.0</td>\n",
       "      <td>98.474289</td>\n",
       "      <td>0.532539</td>\n",
       "      <td>118.126207</td>\n",
       "      <td>0.18</td>\n",
       "      <td>0.0</td>\n",
       "      <td>mLVIVxoGY7TUDJ1FyFoSIZi1SFcaBmO01AydRchaEiGYtU...</td>\n",
       "      <td>60011.29</td>\n",
       "      <td>True</td>\n",
       "      <td>xsd3ZdsI3356I3xMxZeiqQ==</td>\n",
       "      <td>i036nmJ7rfxo+3EvCD7Jnw==</td>\n",
       "      <td>NCqL3QBx0pscDnx3ixKwXg==</td>\n",
       "      <td>mLVIVxoGY7TUDJ1FyFoSIZi1SFcaBmO01AydRchaEiGYtU...</td>\n",
       "      <td>n+xK9CfX0bCn77lClTWviw==</td>\n",
       "      <td>0.0</td>\n",
       "      <td>0.0</td>\n",
       "      <td>11.0</td>\n",
       "      <td>10.0</td>\n",
       "      <td>13:39:03</td>\n",
       "      <td>240</td>\n",
       "      <td>gmail.com</td>\n",
       "      <td>2</td>\n",
       "      <td>1.0</td>\n",
       "      <td>46.0</td>\n",
       "      <td>darzisa</td>\n",
       "      <td>320</td>\n",
       "      <td>(-16.574259446978008, -39.90990074785962)</td>\n",
       "      <td>Invite-email</td>\n",
       "      <td>102-3660162</td>\n",
       "      <td>198618.0</td>\n",
       "      <td>BR-MT</td>\n",
       "      <td>52827</td>\n",
       "    </tr>\n",
       "  </tbody>\n",
       "</table>\n",
       "</div>"
      ],
      "text/plain": [
       "                                    ids target_default  \\\n",
       "0  343b7e7b-2cf8-e508-b8fd-0a0285af30aa          False   \n",
       "1  bc2c7502-bbad-0f8c-39c3-94e881967124          False   \n",
       "2  669630dd-2e6a-0396-84bf-455e5009c922           True   \n",
       "3  d235609e-b6cb-0ccc-a329-d4f12e7ebdc1          False   \n",
       "4  9e0eb880-e8f4-3faa-67d8-f5cdd2b3932b          False   \n",
       "\n",
       "                    score_1                   score_2  score_3     score_4  \\\n",
       "0  1Rk8w4Ucd5yR3KcqZzLdow==  IOVu8au3ISbo6+zmfnYwMg==    350.0  101.800832   \n",
       "1  DGCQep2AE5QRkNCshIAlFQ==  SaamrHMo23l/3TwXOWgVzw==    370.0   97.062615   \n",
       "2  DGCQep2AE5QRkNCshIAlFQ==  Fv28Bz0YRTVAT5kl1bAV6g==    360.0  100.027073   \n",
       "3  1Rk8w4Ucd5yR3KcqZzLdow==  dCm9hFKfdRm7ej3jW+gyxw==    510.0  101.599485   \n",
       "4  8k8UDR4Yx0qasAjkGrUZLw==  +CxEO4w7jv3QPI/BQbyqAA==    500.0   98.474289   \n",
       "\n",
       "    score_5     score_6  risk_rate  credit_limit  \\\n",
       "0  0.259555  108.427273       0.40           0.0   \n",
       "1  0.942655   92.002546       0.24       39726.0   \n",
       "2  0.351918  112.892453       0.29           0.0   \n",
       "3  0.987673   94.902491       0.32       54591.0   \n",
       "4  0.532539  118.126207       0.18           0.0   \n",
       "\n",
       "                                              reason     income  \\\n",
       "0  mLVIVxoGY7TUDJ1FyFoSIZi1SFcaBmO01AydRchaEiGYtU...   65014.12   \n",
       "1  mLVIVxoGY7TUDJ1FyFoSIZi1SFcaBmO01AydRchaEiGYtU...  100018.91   \n",
       "2  mLVIVxoGY7TUDJ1FyFoSIZi1SFcaBmO01AydRchaEiGYtU...   65023.65   \n",
       "3  mLVIVxoGY7TUDJ1FyFoSIZi1SFcaBmO01AydRchaEiGYtU...   68830.01   \n",
       "4  mLVIVxoGY7TUDJ1FyFoSIZi1SFcaBmO01AydRchaEiGYtU...   60011.29   \n",
       "\n",
       "   facebook_profile                     state                       zip  \\\n",
       "0              True  sjJbkqJS7cXalHLBFA+EOQ==  Ernn+uVXCMq/6ARrBCcd+A==   \n",
       "1             False  xsd3ZdsI3356I3xMxZeiqQ==  rlWIXTBO+VOa34+SpGyhlQ==   \n",
       "2             False  Ygq6MsM98oC8yceExr69Ig==  PjTIDfJsK0DKL9fO7vuW2g==   \n",
       "3             False  KET/Pmr6rHp1RJ/P9ymztw==  Cc/kWDLQH3dpHv5HU+pLVA==   \n",
       "4              True  xsd3ZdsI3356I3xMxZeiqQ==  i036nmJ7rfxo+3EvCD7Jnw==   \n",
       "\n",
       "                    channel  \\\n",
       "0  NCqL3QBx0pscDnx3ixKwXg==   \n",
       "1  NCqL3QBx0pscDnx3ixKwXg==   \n",
       "2  NCqL3QBx0pscDnx3ixKwXg==   \n",
       "3  NCqL3QBx0pscDnx3ixKwXg==   \n",
       "4  NCqL3QBx0pscDnx3ixKwXg==   \n",
       "\n",
       "                                            job_name  \\\n",
       "0  mLVIVxoGY7TUDJ1FyFoSIZi1SFcaBmO01AydRchaEiGYtU...   \n",
       "1  mLVIVxoGY7TUDJ1FyFoSIZi1SFcaBmO01AydRchaEiGYtU...   \n",
       "2  mLVIVxoGY7TUDJ1FyFoSIZi1SFcaBmO01AydRchaEiGYtU...   \n",
       "3  mLVIVxoGY7TUDJ1FyFoSIZi1SFcaBmO01AydRchaEiE56f...   \n",
       "4  mLVIVxoGY7TUDJ1FyFoSIZi1SFcaBmO01AydRchaEiGYtU...   \n",
       "\n",
       "                 real_state  n_bankruptcies  n_defaulted_loans  n_accounts  \\\n",
       "0  N5/CE7lSkAfB04hVFFwllw==             0.0                0.0        18.0   \n",
       "1  N5/CE7lSkAfB04hVFFwllw==             0.0                0.0        14.0   \n",
       "2  n+xK9CfX0bCn77lClTWviw==             0.0                0.0        10.0   \n",
       "3  n+xK9CfX0bCn77lClTWviw==             1.0                0.0        19.0   \n",
       "4  n+xK9CfX0bCn77lClTWviw==             0.0                0.0        11.0   \n",
       "\n",
       "   n_issues application_time_applied  application_time_in_funnel        email  \\\n",
       "0      18.0                 07:52:34                         444  outlook.com   \n",
       "1      14.0                 02:34:29                         346    gmail.com   \n",
       "2      10.0                 00:60:02                           6    gmail.com   \n",
       "3      19.0                 11:20:49                         406    spgov.com   \n",
       "4      10.0                 13:39:03                         240    gmail.com   \n",
       "\n",
       "   external_data_provider_credit_checks_last_month  \\\n",
       "0                                                2   \n",
       "1                                                1   \n",
       "2                                                2   \n",
       "3                                                3   \n",
       "4                                                2   \n",
       "\n",
       "   external_data_provider_credit_checks_last_year  \\\n",
       "0                                             0.0   \n",
       "1                                             0.0   \n",
       "2                                             0.0   \n",
       "3                                             0.0   \n",
       "4                                             1.0   \n",
       "\n",
       "   external_data_provider_email_seen_before external_data_provider_first_name  \\\n",
       "0                                      51.0                        leidelaura   \n",
       "1                                      17.0                          diocezio   \n",
       "2                                       9.0                         veralucia   \n",
       "3                                      38.0                            venice   \n",
       "4                                      46.0                           darzisa   \n",
       "\n",
       "   external_data_provider_fraud_score  \\\n",
       "0                                 645   \n",
       "1                                 243   \n",
       "2                                  65   \n",
       "3                                 815   \n",
       "4                                 320   \n",
       "\n",
       "                                      lat_lon marketing_channel  \\\n",
       "0    (-29.151545708122246, -51.1386461804385)      Invite-email   \n",
       "1   (-19.687710705798963, -47.94151536525154)  Radio-commercial   \n",
       "2  (-28.748023890412284, -51.867279334353995)      Waiting-list   \n",
       "3   (-17.520650158450454, -39.75801139933186)      Waiting-list   \n",
       "4   (-16.574259446978008, -39.90990074785962)      Invite-email   \n",
       "\n",
       "  profile_phone_number  reported_income shipping_state  shipping_zip_code  \n",
       "0          514-9840782          57849.0          BR-MT              17528  \n",
       "1          251-3659293           4902.0          BR-RS              40933  \n",
       "2          230-6097993         163679.0          BR-RR              50985  \n",
       "3          261-3543751           1086.0          BR-RN              37825  \n",
       "4          102-3660162         198618.0          BR-MT              52827  "
      ]
     },
     "execution_count": 21,
     "metadata": {},
     "output_type": "execute_result"
    }
   ],
   "source": [
    "df3 = df2.copy()\n",
    "df3.head()"
   ]
  },
  {
   "cell_type": "code",
   "execution_count": 22,
   "id": "ef771c54",
   "metadata": {
    "ExecuteTime": {
     "end_time": "2022-06-28T13:03:33.740485Z",
     "start_time": "2022-06-28T13:03:33.695488Z"
    }
   },
   "outputs": [],
   "source": [
    "#change text to number\n",
    "aux = {'False':0,'True':1}\n",
    "df3['target_default'] = df3['target_default'].map(aux)"
   ]
  },
  {
   "cell_type": "markdown",
   "id": "80b94517",
   "metadata": {},
   "source": [
    "# 5.0.Feature Selection"
   ]
  },
  {
   "cell_type": "markdown",
   "id": "dc262ab4",
   "metadata": {},
   "source": [
    "**Removendo colunas categoricas:**\n",
    "Vou remover todas as colunas do tipo object por agora, pois e necessario fazer uma limpeza de dados mais aprofundada nelas e no processo de Data Preparation e necessario fazer um encondig especifico para cada variavel, eu sei que elas são importantes e eu não vou descartalas vou apenas deixa para usar depois que fizer um tratamento mais adequado, que por agora não é meu objetivo já que nesse primeiro passo o objetivo e apenas ter uma visão geral do problema."
   ]
  },
  {
   "cell_type": "code",
   "execution_count": 23,
   "id": "f2021516",
   "metadata": {
    "ExecuteTime": {
     "end_time": "2022-06-28T13:03:33.851486Z",
     "start_time": "2022-06-28T13:03:33.743489Z"
    }
   },
   "outputs": [],
   "source": [
    "df4 = df3.copy()"
   ]
  },
  {
   "cell_type": "code",
   "execution_count": 24,
   "id": "7ecd8292",
   "metadata": {
    "ExecuteTime": {
     "end_time": "2022-06-28T13:03:33.931487Z",
     "start_time": "2022-06-28T13:03:33.853488Z"
    }
   },
   "outputs": [],
   "source": [
    "cols_number = df4.select_dtypes(include=['int64','float64']).columns\n",
    "df4 = df4[cols_number]"
   ]
  },
  {
   "cell_type": "code",
   "execution_count": 25,
   "id": "9bbf3f46",
   "metadata": {
    "ExecuteTime": {
     "end_time": "2022-06-28T13:03:34.088848Z",
     "start_time": "2022-06-28T13:03:33.934487Z"
    }
   },
   "outputs": [],
   "source": [
    "X = df4.drop('target_default',axis=1)\n",
    "y = df4['target_default']"
   ]
  },
  {
   "cell_type": "markdown",
   "id": "af6f7531",
   "metadata": {},
   "source": [
    "# 6.0.Machine Learning Models"
   ]
  },
  {
   "cell_type": "code",
   "execution_count": 26,
   "id": "93b3b0b7",
   "metadata": {
    "ExecuteTime": {
     "end_time": "2022-06-28T13:03:34.199850Z",
     "start_time": "2022-06-28T13:03:34.090851Z"
    }
   },
   "outputs": [],
   "source": [
    "X_train,X_test,y_train,y_test = train_test_split(X,y,test_size=0.3,random_state=32)"
   ]
  },
  {
   "cell_type": "markdown",
   "id": "900d4feb",
   "metadata": {},
   "source": [
    "## 6.1.BaseLine Model"
   ]
  },
  {
   "cell_type": "code",
   "execution_count": 27,
   "id": "4d619004",
   "metadata": {
    "ExecuteTime": {
     "end_time": "2022-06-28T13:03:34.295879Z",
     "start_time": "2022-06-28T13:03:34.211851Z"
    }
   },
   "outputs": [],
   "source": [
    "target_list = df4['target_default'].drop_duplicates().sort_values().tolist()\n",
    "k_num = y_test.shape[0]\n",
    "target_weights = df4['target_default'].value_counts(normalize=True).sort_index().tolist()\n",
    "\n",
    "baseline_model = random.choices(population=target_list,\n",
    "                                k=k_num,\n",
    "                                weights=target_weights)"
   ]
  },
  {
   "cell_type": "markdown",
   "id": "72758d38",
   "metadata": {},
   "source": [
    "## 6.2.GaussianNB"
   ]
  },
  {
   "cell_type": "code",
   "execution_count": 28,
   "id": "268de7d1",
   "metadata": {
    "ExecuteTime": {
     "end_time": "2022-06-28T13:03:34.534294Z",
     "start_time": "2022-06-28T13:03:34.298882Z"
    }
   },
   "outputs": [],
   "source": [
    "model_gaussian = GaussianNB()\n",
    "\n",
    "#train model\n",
    "model_gaussian.fit(X_train,y_train)\n",
    "\n",
    "#predict\n",
    "result_gausian = model_gaussian.predict(X_test)"
   ]
  },
  {
   "cell_type": "markdown",
   "id": "5cc4803b",
   "metadata": {},
   "source": [
    "## 6.3.LogisticRegression"
   ]
  },
  {
   "cell_type": "code",
   "execution_count": 29,
   "id": "051ef9c3",
   "metadata": {
    "ExecuteTime": {
     "end_time": "2022-06-28T13:03:34.645638Z",
     "start_time": "2022-06-28T13:03:34.537292Z"
    }
   },
   "outputs": [],
   "source": [
    "model_logic = LogisticRegression()\n",
    "\n",
    "#train data\n",
    "model_logic.fit(X_train,y_train)\n",
    "\n",
    "#predict\n",
    "result_logic = model_logic.predict(X_test)"
   ]
  },
  {
   "cell_type": "markdown",
   "id": "1df538f1",
   "metadata": {},
   "source": [
    "# 7.0.Perfomance"
   ]
  },
  {
   "cell_type": "markdown",
   "id": "d62e6571",
   "metadata": {},
   "source": [
    "### Baseline Model"
   ]
  },
  {
   "cell_type": "code",
   "execution_count": 30,
   "id": "c004ae82",
   "metadata": {
    "ExecuteTime": {
     "end_time": "2022-06-28T13:03:34.995644Z",
     "start_time": "2022-06-28T13:03:34.648640Z"
    }
   },
   "outputs": [
    {
     "name": "stdout",
     "output_type": "stream",
     "text": [
      "Accuracy: 73.46%\n",
      "Balacend Acurracy: 50.43%\n",
      "Kappa Score: 0.85%\n",
      "              precision    recall  f1-score   support\n",
      "\n",
      "           0       0.84      0.84      0.84     10518\n",
      "           1       0.17      0.17      0.17      1985\n",
      "\n",
      "    accuracy                           0.73     12503\n",
      "   macro avg       0.50      0.50      0.50     12503\n",
      "weighted avg       0.74      0.73      0.73     12503\n",
      "\n"
     ]
    },
    {
     "data": {
      "image/png": "[encoded data removed]",
      "text/plain": [
       "<Figure size 432x432 with 2 Axes>"
      ]
     },
     "metadata": {
      "needs_background": "light"
     },
     "output_type": "display_data"
    }
   ],
   "source": [
    "acc = accuracy_score(y_test,baseline_model)\n",
    "print('Accuracy: {:.2%}'.format(acc))\n",
    "\n",
    "balacend_acc = balanced_accuracy_score(y_test,baseline_model)\n",
    "print('Balacend Acurracy: {:.2%}'.format(balacend_acc))\n",
    "\n",
    "#Kappa Metric\n",
    "kappa_acc = cohen_kappa_score(y_test,baseline_model)\n",
    "print('Kappa Score: {:.2%}'.format(kappa_acc))\n",
    "\n",
    "#classification_report\n",
    "print(classification_report(y_test,baseline_model))\n",
    "\n",
    "#plot confusion matrix\n",
    "mt.plot_confusion_matrix(y_test, baseline_model, normalize=True, figsize=(6,6));"
   ]
  },
  {
   "cell_type": "markdown",
   "id": "0856ae2f",
   "metadata": {},
   "source": [
    "### Gaussian"
   ]
  },
  {
   "cell_type": "code",
   "execution_count": 31,
   "id": "3a044cf5",
   "metadata": {
    "ExecuteTime": {
     "end_time": "2022-06-28T13:03:35.218639Z",
     "start_time": "2022-06-28T13:03:34.998638Z"
    }
   },
   "outputs": [
    {
     "name": "stdout",
     "output_type": "stream",
     "text": [
      "Accuracy: 84.12%\n",
      "Balacend Acurracy: 50.00%\n",
      "Kappa Score: 0.00%\n",
      "              precision    recall  f1-score   support\n",
      "\n",
      "           0       0.84      1.00      0.91     10518\n",
      "           1       0.00      0.00      0.00      1985\n",
      "\n",
      "    accuracy                           0.84     12503\n",
      "   macro avg       0.42      0.50      0.46     12503\n",
      "weighted avg       0.71      0.84      0.77     12503\n",
      "\n"
     ]
    },
    {
     "data": {
      "image/png": "[encoded data removed]",
      "text/plain": [
       "<Figure size 432x432 with 2 Axes>"
      ]
     },
     "metadata": {
      "needs_background": "light"
     },
     "output_type": "display_data"
    }
   ],
   "source": [
    "acc = accuracy_score(y_test,result_gausian)\n",
    "print('Accuracy: {:.2%}'.format(acc))\n",
    "\n",
    "balacend_acc = balanced_accuracy_score(y_test,result_gausian)\n",
    "print('Balacend Acurracy: {:.2%}'.format(balacend_acc))\n",
    "\n",
    "#Kappa Metric\n",
    "kappa_acc = cohen_kappa_score(y_test,result_gausian)\n",
    "print('Kappa Score: {:.2%}'.format(kappa_acc))\n",
    "\n",
    "#classification_report\n",
    "print(classification_report(y_test,result_gausian))\n",
    "\n",
    "#plot confusion matrix\n",
    "mt.plot_confusion_matrix(y_test, result_gausian, normalize=True, figsize=(6,6));"
   ]
  },
  {
   "cell_type": "markdown",
   "id": "3854c87a",
   "metadata": {},
   "source": [
    "### Logistic Regression"
   ]
  },
  {
   "cell_type": "code",
   "execution_count": 32,
   "id": "67d9e6d5",
   "metadata": {
    "ExecuteTime": {
     "end_time": "2022-06-28T13:03:35.442654Z",
     "start_time": "2022-06-28T13:03:35.221644Z"
    }
   },
   "outputs": [
    {
     "name": "stdout",
     "output_type": "stream",
     "text": [
      "Accuracy: 84.12%\n",
      "Balacend Acurracy: 50.00%\n",
      "Kappa Score: 0.00%\n",
      "              precision    recall  f1-score   support\n",
      "\n",
      "           0       0.84      1.00      0.91     10518\n",
      "           1       0.00      0.00      0.00      1985\n",
      "\n",
      "    accuracy                           0.84     12503\n",
      "   macro avg       0.42      0.50      0.46     12503\n",
      "weighted avg       0.71      0.84      0.77     12503\n",
      "\n"
     ]
    },
    {
     "data": {
      "image/png": "[encoded data removed]",
      "text/plain": [
       "<Figure size 432x432 with 2 Axes>"
      ]
     },
     "metadata": {
      "needs_background": "light"
     },
     "output_type": "display_data"
    }
   ],
   "source": [
    "acc = accuracy_score(y_test,result_logic)\n",
    "print('Accuracy: {:.2%}'.format(acc))\n",
    "\n",
    "balacend_acc = balanced_accuracy_score(y_test,result_logic)\n",
    "print('Balacend Acurracy: {:.2%}'.format(balacend_acc))\n",
    "\n",
    "#Kappa Metric\n",
    "kappa_acc = cohen_kappa_score(y_test,result_logic)\n",
    "print('Kappa Score: {:.2%}'.format(kappa_acc))\n",
    "\n",
    "#classification_report\n",
    "print(classification_report(y_test,result_logic))\n",
    "\n",
    "#plot confusion matrix\n",
    "mt.plot_confusion_matrix(y_test, result_logic, normalize=True, figsize=(6,6));"
   ]
  },
  {
   "cell_type": "markdown",
   "id": "bf0a21c5",
   "metadata": {},
   "source": [
    "## Cross Validation Performance"
   ]
  },
  {
   "cell_type": "markdown",
   "id": "730935c7",
   "metadata": {},
   "source": [
    "### Gaussian CV"
   ]
  },
  {
   "cell_type": "code",
   "execution_count": 33,
   "id": "1c740127",
   "metadata": {
    "ExecuteTime": {
     "end_time": "2022-06-28T13:03:35.712640Z",
     "start_time": "2022-06-28T13:03:35.445641Z"
    }
   },
   "outputs": [
    {
     "name": "stdout",
     "output_type": "stream",
     "text": [
      "Acurracy: 84.01%\n",
      "Balacend Acurracy: 50.00%\n",
      "Kappa Score: 0.00%\n",
      "              precision    recall  f1-score   support\n",
      "\n",
      "           0       0.84      1.00      0.91      4902\n",
      "           1       0.00      0.00      0.00       933\n",
      "\n",
      "    accuracy                           0.84      5835\n",
      "   macro avg       0.42      0.50      0.46      5835\n",
      "weighted avg       0.71      0.84      0.77      5835\n",
      "\n"
     ]
    },
    {
     "data": {
      "image/png": "[encoded data removed]",
      "text/plain": [
       "<Figure size 432x432 with 2 Axes>"
      ]
     },
     "metadata": {
      "needs_background": "light"
     },
     "output_type": "display_data"
    }
   ],
   "source": [
    "model_gaussian_cv = GaussianNB()\n",
    "result_gausian_cv = cross_validation(model_gaussian_cv,5,X_train,y_train)"
   ]
  },
  {
   "cell_type": "markdown",
   "id": "1ad64759",
   "metadata": {},
   "source": [
    "### Logistic Regression CV"
   ]
  },
  {
   "cell_type": "code",
   "execution_count": 34,
   "id": "5b20eb09",
   "metadata": {
    "ExecuteTime": {
     "end_time": "2022-06-28T13:03:35.983645Z",
     "start_time": "2022-06-28T13:03:35.716640Z"
    }
   },
   "outputs": [
    {
     "name": "stdout",
     "output_type": "stream",
     "text": [
      "Acurracy: 84.01%\n",
      "Balacend Acurracy: 50.00%\n",
      "Kappa Score: 0.00%\n",
      "              precision    recall  f1-score   support\n",
      "\n",
      "           0       0.84      1.00      0.91      4902\n",
      "           1       0.00      0.00      0.00       933\n",
      "\n",
      "    accuracy                           0.84      5835\n",
      "   macro avg       0.42      0.50      0.46      5835\n",
      "weighted avg       0.71      0.84      0.77      5835\n",
      "\n"
     ]
    },
    {
     "data": {
      "image/png": "[encoded data removed]",
      "text/plain": [
       "<Figure size 432x432 with 2 Axes>"
      ]
     },
     "metadata": {
      "needs_background": "light"
     },
     "output_type": "display_data"
    }
   ],
   "source": [
    "model_logic_cv = LogisticRegression()\n",
    "result_logic_cv = cross_validation(model_logic_cv,5,X_train,y_train)"
   ]
  },
  {
   "cell_type": "markdown",
   "id": "29b67371",
   "metadata": {
    "heading_collapsed": true
   },
   "source": [
    "# Conclusion\n",
    "**O que foi feito nesta etapa:**\n",
    "- Nessa etapa eu preenchi os valores NA das features que não estavam tão vazias, cada preechimento que fiz foi com base na distribuição da variavel, então fiz o mais fiel possivel a realidade, também fiz a cross validation que vai nos trazer o valor real do modelo, também usei novas métricas expecificas para trabalhar com valores desbalanceados e por fim criei um modelo de escolhas aleatórias para ser meu baseline, e com base nele que vou saber se modelos mais complexos de ML estão indo bem.\n",
    "\n",
    "**O que sera feito na proxima etapa?**\n",
    "- Na próxima etapa eu vou fazer engenheria de atributos que é a criação de novas features a partir das existentes, vou fazer isso para que o modelo tenha mais atributos que expliquem o fenomeno que estou tentando modelar.\n",
    "\n",
    "**Proximo passo:**\n",
    "- Feature Engineer"
   ]
  }
 ],
 "metadata": {
  "kernelspec": {
   "display_name": "Python 3 (ipykernel)",
   "language": "python",
   "name": "python3"
  },
  "language_info": {
   "codemirror_mode": {
    "name": "ipython",
    "version": 3
   },
   "file_extension": ".py",
   "mimetype": "text/x-python",
   "name": "python",
   "nbconvert_exporter": "python",
   "pygments_lexer": "ipython3",
   "version": "3.9.12"
  },
  "varInspector": {
   "cols": {
    "lenName": 16,
    "lenType": 16,
    "lenVar": 40
   },
   "kernels_config": {
    "python": {
     "delete_cmd_postfix": "",
     "delete_cmd_prefix": "del ",
     "library": "var_list.py",
     "varRefreshCmd": "print(var_dic_list())"
    },
    "r": {
     "delete_cmd_postfix": ") ",
     "delete_cmd_prefix": "rm(",
     "library": "var_list.r",
     "varRefreshCmd": "cat(var_dic_list()) "
    }
   },
   "types_to_exclude": [
    "module",
    "function",
    "builtin_function_or_method",
    "instance",
    "_Feature"
   ],
   "window_display": false
  }
 },
 "nbformat": 4,
 "nbformat_minor": 5
}
